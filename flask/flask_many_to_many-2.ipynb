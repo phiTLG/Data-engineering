{
 "cells": [
  {
   "cell_type": "markdown",
   "metadata": {},
   "source": [
    "## Exemple de base de donnée avec des connexions many to many"
   ]
  },
  {
   "cell_type": "markdown",
   "metadata": {},
   "source": [
    "### Configuration et création"
   ]
  },
  {
   "cell_type": "code",
   "execution_count": 71,
   "metadata": {},
   "outputs": [],
   "source": [
    "rm app.db"
   ]
  },
  {
   "cell_type": "code",
   "execution_count": 72,
   "metadata": {},
   "outputs": [],
   "source": [
    "# %%file config.py\n",
    "# Sera utilisé pour configurer la db\n",
    "import os\n",
    "basedir  = os.getcwd()\n",
    "basedir = basedir[0] if isinstance(basedir, list) else basedir\n",
    "\n",
    "class Config(object):\n",
    "    # ...\n",
    "    SQLALCHEMY_DATABASE_URI = os.environ.get('DATABASE_URL') or \\\n",
    "        'sqlite:///' + os.path.join(basedir, 'app.db')\n",
    "    SQLALCHEMY_TRACK_MODIFICATIONS = False"
   ]
  },
  {
   "cell_type": "code",
   "execution_count": 73,
   "metadata": {},
   "outputs": [
    {
     "name": "stderr",
     "output_type": "stream",
     "text": [
      "/home/bercherj/.local/lib/python3.8/site-packages/flask_sqlalchemy/__init__.py:812: UserWarning: Neither SQLALCHEMY_DATABASE_URI nor SQLALCHEMY_BINDS is set. Defaulting SQLALCHEMY_DATABASE_URI to \"sqlite:///:memory:\".\n",
      "  warnings.warn(\n",
      "/home/bercherj/.local/lib/python3.8/site-packages/flask_sqlalchemy/__init__.py:833: FSADeprecationWarning: SQLALCHEMY_TRACK_MODIFICATIONS adds significant overhead and will be disabled by default in the future.  Set it to True or False to suppress this warning.\n",
      "  warnings.warn(FSADeprecationWarning(\n"
     ]
    }
   ],
   "source": [
    "#https://docs.sqlalchemy.org/en/14/orm/basic_relationships.html#many-to-many\n",
    "#from sqlalchemy import Table, Column, Integer, ForeignKey\n",
    "#from sqlalchemy.orm import relationship\n",
    "#from sqlalchemy.ext.declarative import declarative_base\n",
    "\n",
    "from flask import Flask\n",
    "#from config import Config # si la config est définie dans config.py\n",
    "from flask_sqlalchemy import SQLAlchemy\n",
    "\n",
    "app = Flask(__name__)\n",
    "db = SQLAlchemy(app)\n",
    "Base = db.Model \n",
    "\n",
    "\n",
    "association_table = db.Table('association', Base.metadata,\n",
    "    db.Column('parents', db.Integer, db.ForeignKey('parents.id')),\n",
    "    db.Column('children', db.Integer, db.ForeignKey('children.id'))\n",
    ")\n",
    "\n",
    "\n",
    "class Parent(Base):\n",
    "    __tablename__ = 'parents'\n",
    "    id = db.Column(db.Integer, primary_key=True)\n",
    "    name = db.Column(db.String(64))\n",
    "    children = db.relationship(\n",
    "        \"Child\",\n",
    "        secondary=association_table,\n",
    "        back_populates=\"parents\")\n",
    "\n",
    "class Child(Base):\n",
    "    __tablename__ = 'children'\n",
    "    id = db.Column(db.Integer, primary_key=True)\n",
    "    name = db.Column(db.String(64))\n",
    "    parents = db.relationship(\n",
    "        \"Parent\",\n",
    "        secondary=association_table,\n",
    "        back_populates=\"children\")\n",
    "    \n",
    "    \n",
    "    \n",
    "db.create_all() # Création des tables    \n"
   ]
  },
  {
   "cell_type": "markdown",
   "metadata": {},
   "source": [
    "### Exemples d'utilisation, queries"
   ]
  },
  {
   "cell_type": "code",
   "execution_count": 74,
   "metadata": {},
   "outputs": [],
   "source": [
    "u = Parent(name='john' )\n",
    "v = Parent(name='kelly')\n",
    "r = Child(name='bob', parents=[u,v])\n",
    "t = Child(name='john', parents=[v,u])"
   ]
  },
  {
   "cell_type": "code",
   "execution_count": 75,
   "metadata": {},
   "outputs": [],
   "source": [
    "db.session.add(u)\n",
    "db.session.add(v)\n",
    "db.session.commit()\n",
    "db.session.add(r)\n",
    "db.session.add(t)\n",
    "db.session.commit()\n"
   ]
  },
  {
   "cell_type": "code",
   "execution_count": 76,
   "metadata": {},
   "outputs": [
    {
     "data": {
      "text/plain": [
       "[<Parent 1>, <Parent 2>]"
      ]
     },
     "execution_count": 76,
     "metadata": {},
     "output_type": "execute_result"
    }
   ],
   "source": [
    "r.parents"
   ]
  },
  {
   "cell_type": "code",
   "execution_count": 77,
   "metadata": {},
   "outputs": [
    {
     "name": "stdout",
     "output_type": "stream",
     "text": [
      "bob\n",
      "john\n"
     ]
    }
   ],
   "source": [
    "for u in v.children:\n",
    "    print(u.name)\n",
    "    "
   ]
  },
  {
   "cell_type": "code",
   "execution_count": 78,
   "metadata": {},
   "outputs": [
    {
     "data": {
      "text/plain": [
       "[<Child 1>, <Child 2>]"
      ]
     },
     "execution_count": 78,
     "metadata": {},
     "output_type": "execute_result"
    }
   ],
   "source": [
    "Child.query.all()"
   ]
  },
  {
   "cell_type": "code",
   "execution_count": 79,
   "metadata": {},
   "outputs": [
    {
     "data": {
      "text/plain": [
       "[<Child 1>, <Child 2>]"
      ]
     },
     "execution_count": 79,
     "metadata": {},
     "output_type": "execute_result"
    }
   ],
   "source": [
    "Child.query.filter(Parent.name=='john').all()"
   ]
  },
  {
   "cell_type": "code",
   "execution_count": 80,
   "metadata": {},
   "outputs": [
    {
     "data": {
      "text/plain": [
       "<Child 1>"
      ]
     },
     "execution_count": 80,
     "metadata": {},
     "output_type": "execute_result"
    }
   ],
   "source": [
    "Child.query.filter(Parent.name=='john').first()"
   ]
  },
  {
   "cell_type": "code",
   "execution_count": null,
   "metadata": {},
   "outputs": [],
   "source": []
  },
  {
   "cell_type": "code",
   "execution_count": null,
   "metadata": {},
   "outputs": [],
   "source": []
  },
  {
   "cell_type": "code",
   "execution_count": null,
   "metadata": {},
   "outputs": [],
   "source": []
  },
  {
   "cell_type": "code",
   "execution_count": null,
   "metadata": {},
   "outputs": [],
   "source": []
  },
  {
   "cell_type": "markdown",
   "metadata": {},
   "source": [
    "## Base many to many pour le TP BibApp"
   ]
  },
  {
   "cell_type": "code",
   "execution_count": 81,
   "metadata": {},
   "outputs": [
    {
     "name": "stdout",
     "output_type": "stream",
     "text": [
      "rm: cannot remove 'app.db': No such file or directory\r\n"
     ]
    }
   ],
   "source": [
    "rm app.db"
   ]
  },
  {
   "cell_type": "code",
   "execution_count": 82,
   "metadata": {},
   "outputs": [],
   "source": [
    "# %%file config.py\n",
    "# Sera utilisé pour configurer la db\n",
    "import os\n",
    "basedir  = os.getcwd()\n",
    "basedir = basedir[0] if isinstance(basedir, list) else basedir\n",
    "\n",
    "class Config(object):\n",
    "    # ...\n",
    "    SQLALCHEMY_DATABASE_URI = os.environ.get('DATABASE_URL') or \\\n",
    "        'sqlite:///' + os.path.join(basedir, 'app.db')\n",
    "    SQLALCHEMY_TRACK_MODIFICATIONS = False"
   ]
  },
  {
   "cell_type": "code",
   "execution_count": 83,
   "metadata": {},
   "outputs": [],
   "source": [
    "#https://docs.sqlalchemy.org/en/14/orm/basic_relationships.html#many-to-many\n",
    "#from sqlalchemy import Table, Column, Integer, ForeignKey\n",
    "#from sqlalchemy.orm import relationship\n",
    "#from sqlalchemy.ext.declarative import declarative_base\n",
    "\n",
    "from flask import Flask\n",
    "#from config import Config # si la config est définie dans config.py\n",
    "from flask_sqlalchemy import SQLAlchemy\n",
    "\n",
    "app = Flask(__name__)\n",
    "app.config.from_object(Config)\n",
    "db = SQLAlchemy(app)\n",
    "Base = db.Model \n",
    "\n",
    "\n",
    "association_table = db.Table('association', Base.metadata,\n",
    "    db.Column('auteurs', db.Integer, db.ForeignKey('authors.id')),\n",
    "    db.Column('publis', db.Integer, db.ForeignKey('publis.id')),\n",
    "    db.Column('labos', db.Integer, db.ForeignKey('labos.id'))                             \n",
    ")\n",
    "\n",
    "\n",
    "\n",
    "class Labo(db.Model):\n",
    "    __tablename__ = 'labos'\n",
    "    id = db.Column(db.Integer, primary_key=True)\n",
    "    labname = db.Column(db.String(64), index=True)\n",
    "    membres = db.relationship('ESIEEAuthor', backref='labo', lazy='dynamic') # crée un lien avec un attribut \"author\" pour chacun des posts\n",
    "    publis = db.relationship(\n",
    "        \"Publis\",\n",
    "        secondary=association_table,\n",
    "        back_populates=\"labos\")    \n",
    "\n",
    "    def __repr__(self):\n",
    "        return '<Lab {}>'.format(self.labname)\n",
    "\n",
    "class ESIEEAuthor(Base):\n",
    "    __tablename__ = 'authors'\n",
    "    id = db.Column(db.Integer, primary_key=True)\n",
    "    nom = db.Column(db.String(64))\n",
    "    prenom = db.Column(db.String(64))\n",
    "    HAL = db.Column(db.String(64))\n",
    "    debut_activite = db.Column(db.Integer)\n",
    "    fin_activite = db.Column(db.Integer)\n",
    "    publis = db.relationship(\n",
    "        \"Publis\",\n",
    "        secondary=association_table,\n",
    "        back_populates=\"Author\")\n",
    "    labo_id = db.Column(db.Integer, db.ForeignKey('labos.id'))\n",
    "\n",
    "    def __repr__(self):\n",
    "        return '<Author {}>'.format(self.nom)\n",
    "\n",
    "\"\"\"\n",
    "association_table = db.Table('association', Base.metadata,\n",
    "    db.Column('auteurs', db.Integer, db.ForeignKey('authors.id')),\n",
    "    db.Column('publis', db.Integer, db.ForeignKey('publis.id')),\n",
    "    db.Column('labos', db.Integer, db.ForeignKey('labos.id'))                             \n",
    ")\n",
    "\n",
    "\n",
    "\n",
    "class Labo(db.Model):\n",
    "    __tablename__ = 'labos'\n",
    "    id = db.Column(db.Integer, primary_key=True)\n",
    "    labname = db.Column(db.String(64), index=True)\n",
    "    membres = db.relationship('ESIEEAuthor', backref='labo', lazy='dynamic') # crée un lien avec un attribut \"author\" pour chacun des posts\n",
    "    publis = db.relationship(\n",
    "        \"Publis\",\n",
    "        secondary=association_table,\n",
    "        back_populates=\"labos\")    \n",
    "\n",
    "    def __repr__(self):\n",
    "        return '<Lab {}>'.format(self.labname)\n",
    "\n",
    "class ESIEEAuthor(Base):\n",
    "    __tablename__ = 'authors'\n",
    "    id = db.Column(db.Integer, primary_key=True)\n",
    "    nom = db.Column(db.String(64))\n",
    "    prenom = db.Column(db.String(64))\n",
    "    HAL = db.Column(db.String(64))\n",
    "    debut_activite = db.Column(db.Integer)\n",
    "    fin_activite = db.Column(db.Integer)\n",
    "    publis = db.relationship(\n",
    "        \"Publis\",\n",
    "        secondary=association_table,\n",
    "        back_populates=\"authors\")\n",
    "    labo_id = db.Column(db.Integer, db.ForeignKey('labos.id'))\n",
    "\n",
    "    def __repr__(self):\n",
    "        return '<Author {}>'.format(self.nom)\n",
    "\n",
    "\n",
    "class Publis(Base):\n",
    "    __tablename__ = 'publis'\n",
    "    id = db.Column(db.Integer, primary_key=True)\n",
    "    name = db.Column(db.String(64))\n",
    "    authors = db.relationship(\n",
    "        \"ESIEEAuthor\",\n",
    "        secondary=association_table,\n",
    "        back_populates=\"publis\")\n",
    "    labos = db.relationship(\n",
    "        \"Labo\",\n",
    "        secondary=association_table,\n",
    "        back_populates=\"publis\")    \n",
    "\n",
    "    def __repr__(self):\n",
    "        return '<Publis {}>'.format(self.name)    \n",
    "\"\"\"    \n",
    "\n",
    "class Publis(Base):\n",
    "    __tablename__ = 'publis'\n",
    "    id = db.Column(db.Integer, primary_key=True)\n",
    "    #id = db.Column(db.String(64), primary_key=True)\n",
    "    BibliographyType = db.Column(db.String(64))\n",
    "    authors = db.Column(db.String(128))    \n",
    "    ISBN = db.Column(db.String(64))\n",
    "    Identifier = db.Column(db.String(64))\n",
    "    Title = db.Column(db.String(64))\n",
    "    Journal = db.Column(db.String(64))\n",
    "    Volume = db.Column(db.String(64))\n",
    "    Number = db.Column(db.String(64))\n",
    "    Month = db.Column(db.String(64))\n",
    "    Pages = db.Column(db.String(64))\n",
    "    Year = db.Column(db.Integer)\n",
    "    Address = db.Column(db.String(64))\n",
    "    Note = db.Column(db.String(64))\n",
    "    URL = db.Column(db.String(64))\n",
    "    Booktitle = db.Column(db.String(64))\n",
    "    Chapter = db.Column(db.String(64))\n",
    "    Edition = db.Column(db.String(64))\n",
    "    Series = db.Column(db.String(64))\n",
    "    Editor = db.Column(db.String(64))\n",
    "    Publisher = db.Column(db.String(64))\n",
    "    ReportType = db.Column(db.String(64))\n",
    "    Howpublished = db.Column(db.String(64))\n",
    "    Institution = db.Column(db.String(64))\n",
    "    Organizations = db.Column(db.String(64))\n",
    "    School = db.Column(db.String(64))\n",
    "    Annote = db.Column(db.String(64))\n",
    "    Custom1 = db.Column(db.String(64))\n",
    "    Custom2 = db.Column(db.String(64))\n",
    "    Custom3 = db.Column(db.String(64))\n",
    "    Custom4 = db.Column(db.String(64))\n",
    "    Custom5 = db.Column(db.String(64))\n",
    "    Author = db.relationship(\n",
    "        \"ESIEEAuthor\",\n",
    "        secondary=association_table,\n",
    "        back_populates=\"publis\")\n",
    "    labos = db.relationship(\n",
    "        \"Labo\",\n",
    "        secondary=association_table,\n",
    "        back_populates=\"publis\")    \n",
    "\n",
    "    def __repr__(self):\n",
    "        return '<Publis {}>'.format(self.Identifier)    \n",
    "\n",
    "\"\"\"\n",
    "'BibliographyType', 'ISBN', 'Identifier', 'Author', 'Title', 'Journal',\n",
    "       'Volume', 'Number', 'Month', 'Pages', 'Year', 'Address', 'Note', 'URL',\n",
    "       'Booktitle', 'Chapter', 'Edition', 'Series', 'Editor', 'Publisher',\n",
    "       'ReportType', 'Howpublished', 'Institution', 'Organizations', 'School',\n",
    "       'Annote', 'Custom1', 'Custom2', 'Custom3', 'Custom4', 'Custom5'\n",
    "\"\"\"\n",
    "        \n",
    "db.create_all() # Création des tables    "
   ]
  },
  {
   "cell_type": "markdown",
   "metadata": {},
   "source": [
    "### Exemple d'utilisation"
   ]
  },
  {
   "cell_type": "code",
   "execution_count": 84,
   "metadata": {},
   "outputs": [],
   "source": [
    "lab1 = Labo(labname='esycom' )\n",
    "lab2 = Labo(labname='ligm' )\n",
    "a1 = ESIEEAuthor(nom='Bill', labo=lab2)\n",
    "a2 = ESIEEAuthor(nom='Myriam', labo=lab1)\n",
    "a3 = ESIEEAuthor(nom='Joe', labo=lab2)\n",
    "a4 = ESIEEAuthor(nom='kelly', labo=lab1)\n",
    "p1 = Publis(Identifier='pub1', Author=[a1,a2,a3], labos=[lab1])\n",
    "p2 = Publis(Identifier='pub2', Author=[a2,a4], labos=[lab1, lab2])\n",
    "p3 = Publis(Identifier='pub3', Author=[a2])\n",
    "p4 = Publis(Identifier='pub4', Author=[a3])\n",
    "p5 = Publis(Identifier='pub5', Author=[a2,a3])"
   ]
  },
  {
   "cell_type": "code",
   "execution_count": 85,
   "metadata": {},
   "outputs": [],
   "source": [
    "db.session.add(lab1)\n",
    "db.session.add(lab2)\n",
    "db.session.commit()\n",
    "db.session.add(a1)\n",
    "db.session.add(a2)\n",
    "db.session.commit()\n",
    "db.session.add(p1)\n",
    "db.session.add(p2)\n",
    "db.session.commit()"
   ]
  },
  {
   "cell_type": "code",
   "execution_count": 86,
   "metadata": {},
   "outputs": [],
   "source": [
    "db.session.add(p3)\n",
    "db.session.add(p4)\n",
    "db.session.add(p5)\n",
    "db.session.commit()"
   ]
  },
  {
   "cell_type": "code",
   "execution_count": 87,
   "metadata": {},
   "outputs": [],
   "source": [
    "p12 = Publis(Identifier='pub5', Author=[a2,a3], Year=44)"
   ]
  },
  {
   "cell_type": "code",
   "execution_count": 88,
   "metadata": {},
   "outputs": [
    {
     "data": {
      "text/plain": [
       "int"
      ]
     },
     "execution_count": 88,
     "metadata": {},
     "output_type": "execute_result"
    }
   ],
   "source": [
    "type(p12.Year)"
   ]
  },
  {
   "cell_type": "code",
   "execution_count": null,
   "metadata": {},
   "outputs": [],
   "source": []
  },
  {
   "cell_type": "code",
   "execution_count": 89,
   "metadata": {},
   "outputs": [],
   "source": [
    "# Même id, cela écrase la référence précédente\n",
    "#p7 = Publis(id='pub1', Author=[a1,a2,a3], labos=[lab1])\n",
    "#db.session.commit()"
   ]
  },
  {
   "cell_type": "code",
   "execution_count": 90,
   "metadata": {},
   "outputs": [],
   "source": [
    "Publis.query.filter(Publis.id=='pub72').first()"
   ]
  },
  {
   "cell_type": "code",
   "execution_count": 91,
   "metadata": {},
   "outputs": [
    {
     "data": {
      "text/plain": [
       "[<Publis pub1>,\n",
       " <Publis pub4>,\n",
       " <Publis pub2>,\n",
       " <Publis pub3>,\n",
       " <Publis pub5>,\n",
       " <Publis pub5>]"
      ]
     },
     "execution_count": 91,
     "metadata": {},
     "output_type": "execute_result"
    }
   ],
   "source": [
    "# Toutes les publis\n",
    "p = Publis.query.all()\n",
    "p"
   ]
  },
  {
   "cell_type": "code",
   "execution_count": 92,
   "metadata": {},
   "outputs": [
    {
     "data": {
      "text/plain": [
       "[<Lab esycom>, <Lab ligm>]"
      ]
     },
     "execution_count": 92,
     "metadata": {},
     "output_type": "execute_result"
    }
   ],
   "source": [
    "# Liste des labos\n",
    "labs = Labo.query.all()\n",
    "labs"
   ]
  },
  {
   "cell_type": "code",
   "execution_count": 93,
   "metadata": {},
   "outputs": [
    {
     "data": {
      "text/plain": [
       "[<Publis pub4>, <Publis pub5>, <Publis pub1>, <Publis pub5>]"
      ]
     },
     "execution_count": 93,
     "metadata": {},
     "output_type": "execute_result"
    }
   ],
   "source": [
    "# Liste des publis pour un labo\n",
    "ll = Publis.query.join(Publis.Author).join(ESIEEAuthor.labo).filter(Labo.labname==\"ligm\").all() \n",
    "ll"
   ]
  },
  {
   "cell_type": "code",
   "execution_count": 94,
   "metadata": {},
   "outputs": [
    {
     "data": {
      "text/plain": [
       "[<Publis pub1>,\n",
       " <Publis pub4>,\n",
       " <Publis pub2>,\n",
       " <Publis pub3>,\n",
       " <Publis pub5>,\n",
       " <Publis pub5>]"
      ]
     },
     "execution_count": 94,
     "metadata": {},
     "output_type": "execute_result"
    }
   ],
   "source": [
    "Publis.query.all()"
   ]
  },
  {
   "cell_type": "code",
   "execution_count": 95,
   "metadata": {},
   "outputs": [
    {
     "data": {
      "text/plain": [
       "[<Author Bill>, <Author Joe>]"
      ]
     },
     "execution_count": 95,
     "metadata": {},
     "output_type": "execute_result"
    }
   ],
   "source": [
    "# Liste des auteurs pour un labo\n",
    "Labo.query.filter(Labo.labname=='ligm').first().membres.filter().all()"
   ]
  },
  {
   "cell_type": "code",
   "execution_count": 96,
   "metadata": {},
   "outputs": [
    {
     "data": {
      "text/plain": [
       "[<Author Myriam>, <Author Bill>, <Author Joe>, <Author kelly>]"
      ]
     },
     "execution_count": 96,
     "metadata": {},
     "output_type": "execute_result"
    }
   ],
   "source": [
    "ESIEEAuthor.query.filter().all()"
   ]
  },
  {
   "cell_type": "code",
   "execution_count": 97,
   "metadata": {},
   "outputs": [
    {
     "data": {
      "text/plain": [
       "[<Author Bill>, <Author Myriam>, <Author Joe>]"
      ]
     },
     "execution_count": 97,
     "metadata": {},
     "output_type": "execute_result"
    }
   ],
   "source": [
    "p[0].Author"
   ]
  },
  {
   "cell_type": "code",
   "execution_count": 98,
   "metadata": {},
   "outputs": [
    {
     "name": "stdout",
     "output_type": "stream",
     "text": [
      "<Lab ligm>\n",
      "<Lab esycom>\n",
      "<Lab ligm>\n"
     ]
    }
   ],
   "source": [
    "for auteur in p[0].Author:\n",
    "    print(auteur.labo)"
   ]
  },
  {
   "cell_type": "code",
   "execution_count": 99,
   "metadata": {},
   "outputs": [
    {
     "data": {
      "text/plain": [
       "[<Lab esycom>, <Lab ligm>]"
      ]
     },
     "execution_count": 99,
     "metadata": {},
     "output_type": "execute_result"
    }
   ],
   "source": [
    "ll = Labo.query.all()\n",
    "ll "
   ]
  },
  {
   "cell_type": "code",
   "execution_count": 100,
   "metadata": {},
   "outputs": [
    {
     "data": {
      "text/plain": [
       "<sqlalchemy.orm.dynamic.AppenderBaseQuery at 0x7fdc56850d90>"
      ]
     },
     "execution_count": 100,
     "metadata": {},
     "output_type": "execute_result"
    }
   ],
   "source": [
    "ll[1].membres"
   ]
  },
  {
   "cell_type": "code",
   "execution_count": 101,
   "metadata": {},
   "outputs": [
    {
     "name": "stdout",
     "output_type": "stream",
     "text": [
      "<Author Myriam>\n",
      "<Author kelly>\n"
     ]
    }
   ],
   "source": [
    "for uu in ll[0].membres:\n",
    "    print(uu)"
   ]
  },
  {
   "cell_type": "code",
   "execution_count": 102,
   "metadata": {},
   "outputs": [
    {
     "data": {
      "text/plain": [
       "[<Publis pub1>, <Publis pub2>]"
      ]
     },
     "execution_count": 102,
     "metadata": {},
     "output_type": "execute_result"
    }
   ],
   "source": [
    "ll[0].publis"
   ]
  },
  {
   "cell_type": "code",
   "execution_count": null,
   "metadata": {},
   "outputs": [],
   "source": []
  },
  {
   "cell_type": "code",
   "execution_count": null,
   "metadata": {},
   "outputs": [],
   "source": []
  },
  {
   "cell_type": "code",
   "execution_count": null,
   "metadata": {},
   "outputs": [],
   "source": []
  },
  {
   "cell_type": "markdown",
   "metadata": {},
   "source": [
    "### Initialisation de la base avec les labos"
   ]
  },
  {
   "cell_type": "code",
   "execution_count": 103,
   "metadata": {},
   "outputs": [],
   "source": [
    "labnames = ['LIGM', 'ESYCOM', 'LISIS', 'IRG', 'ESIEE']\n",
    "labDict = {}\n",
    "for lab in labnames:\n",
    "    l = Labo(labname=lab)\n",
    "    labDict[lab] = l \n",
    "    db.session.add(l)\n",
    "    db.session.commit()"
   ]
  },
  {
   "cell_type": "code",
   "execution_count": 104,
   "metadata": {},
   "outputs": [
    {
     "data": {
      "text/plain": [
       "[<Lab esycom>,\n",
       " <Lab ligm>,\n",
       " <Lab LIGM>,\n",
       " <Lab ESYCOM>,\n",
       " <Lab LISIS>,\n",
       " <Lab IRG>,\n",
       " <Lab ESIEE>]"
      ]
     },
     "execution_count": 104,
     "metadata": {},
     "output_type": "execute_result"
    }
   ],
   "source": [
    "Labo.query.all()"
   ]
  },
  {
   "cell_type": "code",
   "execution_count": 105,
   "metadata": {},
   "outputs": [
    {
     "data": {
      "text/plain": [
       "{'LIGM': <Lab LIGM>,\n",
       " 'ESYCOM': <Lab ESYCOM>,\n",
       " 'LISIS': <Lab LISIS>,\n",
       " 'IRG': <Lab IRG>,\n",
       " 'ESIEE': <Lab ESIEE>}"
      ]
     },
     "execution_count": 105,
     "metadata": {},
     "output_type": "execute_result"
    }
   ],
   "source": [
    "labDict"
   ]
  },
  {
   "cell_type": "code",
   "execution_count": 106,
   "metadata": {},
   "outputs": [
    {
     "name": "stdout",
     "output_type": "stream",
     "text": [
      "/home/bercherj/JFB/bibapp\n"
     ]
    }
   ],
   "source": [
    "cd /home/bercherj/JFB/bibapp "
   ]
  },
  {
   "cell_type": "markdown",
   "metadata": {},
   "source": [
    "### Initialisation de la base avec les auteurs"
   ]
  },
  {
   "cell_type": "code",
   "execution_count": 107,
   "metadata": {},
   "outputs": [],
   "source": [
    "\"\"\"from app import db\n",
    "from app.models import ESIEEAuthor, Labos\n",
    "\n",
    "import csv\n",
    "import re\"\"\"\n",
    "\n",
    "import pandas as pd\n",
    "\n",
    "Tab = pd.read_excel(\"listeBiblio.xls\")\n",
    "\n",
    "\n",
    "\n",
    "for idx in Tab.index:\n",
    "    try:\n",
    "        deb = int(Tab.loc[idx, 'Début'])\n",
    "    except:\n",
    "        deb=0\n",
    "    try:\n",
    "        fin = int(Tab.loc[idx, 'Fin'])\n",
    "    except:\n",
    "        fin=2999    \n",
    "        \n",
    "    auteur = ESIEEAuthor(\n",
    "        nom=Tab.loc[idx, 'Nom'],\n",
    "        prenom=Tab.loc[idx, 'Prenom'],\n",
    "        labo=labDict.get(Tab.loc[idx, 'Labo'], labDict['ESIEE']),\n",
    "        HAL=Tab.loc[idx, 'HAL'],\n",
    "        debut_activite=deb,\n",
    "        fin_activite=fin\n",
    "    )\n",
    "    db.session.add(auteur)\n",
    "    db.session.commit()\n",
    "    "
   ]
  },
  {
   "cell_type": "code",
   "execution_count": null,
   "metadata": {},
   "outputs": [],
   "source": []
  },
  {
   "cell_type": "code",
   "execution_count": 108,
   "metadata": {},
   "outputs": [
    {
     "data": {
      "text/plain": [
       "<Lab ESIEE>"
      ]
     },
     "execution_count": 108,
     "metadata": {},
     "output_type": "execute_result"
    }
   ],
   "source": [
    "labDict.get(Tab.loc[idx, 'Labo'], labDict['ESIEE'])"
   ]
  },
  {
   "cell_type": "code",
   "execution_count": 109,
   "metadata": {},
   "outputs": [
    {
     "data": {
      "text/plain": [
       "Index(['NomPrenom', 'Nom', 'Prenom', 'Labo', 'HAL', 'Début', 'Fin'], dtype='object')"
      ]
     },
     "execution_count": 109,
     "metadata": {},
     "output_type": "execute_result"
    }
   ],
   "source": [
    "Tab.columns"
   ]
  },
  {
   "cell_type": "code",
   "execution_count": 110,
   "metadata": {},
   "outputs": [
    {
     "data": {
      "text/plain": [
       "[<Author Myriam>,\n",
       " <Author Bill>,\n",
       " <Author Joe>,\n",
       " <Author kelly>,\n",
       " <Author BERTRAND>,\n",
       " <Author MAINWARING>,\n",
       " <Author BAUDOIN>,\n",
       " <Author DE CAMBRY>,\n",
       " <Author FAKRI>,\n",
       " <Author COUPRIE>,\n",
       " <Author SERRANO>,\n",
       " <Author VILLEGAS>,\n",
       " <Author ANDERSON>,\n",
       " <Author DHERMIES>,\n",
       " <Author GEORGES>,\n",
       " <Author LATORRE>,\n",
       " <Author DEGNY>,\n",
       " <Author KAHANE>,\n",
       " <Author REAMA>,\n",
       " <Author CELA>,\n",
       " <Author LAHILLE>,\n",
       " <Author NATOWICZ>,\n",
       " <Author ROUDIER>,\n",
       " <Author DOUAY>,\n",
       " <Author SEVELY>,\n",
       " <Author MIMOUN>,\n",
       " <Author REILLE>,\n",
       " <Author VENARD>,\n",
       " <Author WIRTH>,\n",
       " <Author BUREAU>,\n",
       " <Author DEBBASCH>,\n",
       " <Author LATORRE>,\n",
       " <Author LEFEBVRE>,\n",
       " <Author SCHOEN>,\n",
       " <Author EVE>,\n",
       " <Author BLANCHARD>,\n",
       " <Author COURIVAUD>,\n",
       " <Author CHU>,\n",
       " <Author BERCHER>,\n",
       " <Author DELABIE>,\n",
       " <Author PERROTON>,\n",
       " <Author POINTET>,\n",
       " <Author POULICHET>,\n",
       " <Author TALBOT>,\n",
       " <Author TODMAN>,\n",
       " <Author BERLAND>,\n",
       " <Author GEORGE>,\n",
       " <Author NAJMAN>,\n",
       " <Author BOUROUINA>,\n",
       " <Author ZAMPERA>,\n",
       " <Author MADAOUI>,\n",
       " <Author REDIS>,\n",
       " <Author HABIB>,\n",
       " <Author LISSORGUES>,\n",
       " <Author FRANCAIS>,\n",
       " <Author GRANDPIERRE>,\n",
       " <Author KOCIK>,\n",
       " <Author ROY>,\n",
       " <Author EXERTIER>,\n",
       " <Author BASSET>,\n",
       " <Author CASTRO GONCALVES>,\n",
       " <Author GERVAIS DE LAFOND>,\n",
       " <Author VALBIN>,\n",
       " <Author HAMOUCHE>,\n",
       " <Author HILAIRE>,\n",
       " <Author ABDEDDAIM>,\n",
       " <Author BUZER>,\n",
       " <Author POLLEUX>,\n",
       " <Author ZITOUNE>,\n",
       " <Author DOKLADALOVA>,\n",
       " <Author ALGRE>,\n",
       " <Author BERRAF>,\n",
       " <Author DELEMARLE>,\n",
       " <Author MUSTAFA>,\n",
       " <Author GARDES>,\n",
       " <Author KACHOURI>,\n",
       " <Author NOURY>,\n",
       " <Author ZANGAR>,\n",
       " <Author COUSTY>,\n",
       " <Author NADAL>,\n",
       " <Author VILLARD>,\n",
       " <Author AIT SAADI>,\n",
       " <Author ALVES>,\n",
       " <Author MASSON>,\n",
       " <Author UGON>,\n",
       " <Author WANG>,\n",
       " <Author CHIERCHIA>,\n",
       " <Author GUO>,\n",
       " <Author NEFZAOUI>,\n",
       " <Author PERRET>,\n",
       " <Author NEGREL>,\n",
       " <Author BEHIRI>,\n",
       " <Author HENDEL>,\n",
       " <Author SAHLI>,\n",
       " <Author DRAIN>]"
      ]
     },
     "execution_count": 110,
     "metadata": {},
     "output_type": "execute_result"
    }
   ],
   "source": [
    "ESIEEAuthor.query.all()"
   ]
  },
  {
   "cell_type": "code",
   "execution_count": 111,
   "metadata": {},
   "outputs": [
    {
     "data": {
      "text/plain": [
       "'Jean'"
      ]
     },
     "execution_count": 111,
     "metadata": {},
     "output_type": "execute_result"
    }
   ],
   "source": [
    "a = ESIEEAuthor.query.filter(ESIEEAuthor.nom=='REDIS').first()\n",
    "a.prenom "
   ]
  },
  {
   "cell_type": "code",
   "execution_count": 112,
   "metadata": {},
   "outputs": [
    {
     "data": {
      "text/plain": [
       "[<Lab esycom>,\n",
       " <Lab ligm>,\n",
       " <Lab LIGM>,\n",
       " <Lab ESYCOM>,\n",
       " <Lab LISIS>,\n",
       " <Lab IRG>,\n",
       " <Lab ESIEE>]"
      ]
     },
     "execution_count": 112,
     "metadata": {},
     "output_type": "execute_result"
    }
   ],
   "source": [
    "Labo.query.all()"
   ]
  },
  {
   "cell_type": "markdown",
   "metadata": {},
   "source": [
    "### Initialisation de la base avec les publis"
   ]
  },
  {
   "cell_type": "code",
   "execution_count": null,
   "metadata": {},
   "outputs": [],
   "source": []
  },
  {
   "cell_type": "code",
   "execution_count": 113,
   "metadata": {},
   "outputs": [
    {
     "data": {
      "text/html": [
       "<div>\n",
       "<style scoped>\n",
       "    .dataframe tbody tr th:only-of-type {\n",
       "        vertical-align: middle;\n",
       "    }\n",
       "\n",
       "    .dataframe tbody tr th {\n",
       "        vertical-align: top;\n",
       "    }\n",
       "\n",
       "    .dataframe thead th {\n",
       "        text-align: right;\n",
       "    }\n",
       "</style>\n",
       "<table border=\"1\" class=\"dataframe\">\n",
       "  <thead>\n",
       "    <tr style=\"text-align: right;\">\n",
       "      <th></th>\n",
       "      <th>BibliographyType</th>\n",
       "      <th>ISBN</th>\n",
       "      <th>Identifier</th>\n",
       "      <th>Author</th>\n",
       "      <th>Title</th>\n",
       "      <th>Journal</th>\n",
       "      <th>Volume</th>\n",
       "      <th>Number</th>\n",
       "      <th>Month</th>\n",
       "      <th>Pages</th>\n",
       "      <th>...</th>\n",
       "      <th>Howpublished</th>\n",
       "      <th>Institution</th>\n",
       "      <th>Organizations</th>\n",
       "      <th>School</th>\n",
       "      <th>Annote</th>\n",
       "      <th>Custom1</th>\n",
       "      <th>Custom2</th>\n",
       "      <th>Custom3</th>\n",
       "      <th>Custom4</th>\n",
       "      <th>Custom5</th>\n",
       "    </tr>\n",
       "  </thead>\n",
       "  <tbody>\n",
       "    <tr>\n",
       "      <th>0</th>\n",
       "      <td>7</td>\n",
       "      <td>NaN</td>\n",
       "      <td>allab:hal-01578585</td>\n",
       "      <td>Allab, Yacine; Guo, Xiaofeng; Pellegrino, Marg...</td>\n",
       "      <td>Energy and comfort assessment in educational b...</td>\n",
       "      <td>{Energy and Buildings}</td>\n",
       "      <td>143</td>\n",
       "      <td>NaN</td>\n",
       "      <td>NaN</td>\n",
       "      <td>202-219</td>\n",
       "      <td>...</td>\n",
       "      <td>NaN</td>\n",
       "      <td>NaN</td>\n",
       "      <td>NaN</td>\n",
       "      <td>NaN</td>\n",
       "      <td>NaN</td>\n",
       "      <td>NaN</td>\n",
       "      <td>NaN</td>\n",
       "      <td>indoor air quality ; energy audit ; thermal co...</td>\n",
       "      <td>https://hal.archives-ouvertes.fr/hal-01578585/...</td>\n",
       "      <td>NaN</td>\n",
       "    </tr>\n",
       "    <tr>\n",
       "      <th>1</th>\n",
       "      <td>7</td>\n",
       "      <td>NaN</td>\n",
       "      <td>bahri:hal-01286949</td>\n",
       "      <td>Bahri, Nejmeddine; Grandpierre, Thierry; Ayed,...</td>\n",
       "      <td>Embedded Real-Time H264/AVC High Definition Vi...</td>\n",
       "      <td>{Journal of Signal Processing Systems}</td>\n",
       "      <td>86</td>\n",
       "      <td>1.0</td>\n",
       "      <td>NaN</td>\n",
       "      <td>67-84</td>\n",
       "      <td>...</td>\n",
       "      <td>NaN</td>\n",
       "      <td>NaN</td>\n",
       "      <td>NaN</td>\n",
       "      <td>NaN</td>\n",
       "      <td>NaN</td>\n",
       "      <td>NaN</td>\n",
       "      <td>NaN</td>\n",
       "      <td>Real-time ; Embedded system ; GOP level paral...</td>\n",
       "      <td>https://hal.archives-ouvertes.fr/hal-01286949/...</td>\n",
       "      <td>NaN</td>\n",
       "    </tr>\n",
       "    <tr>\n",
       "      <th>2</th>\n",
       "      <td>7</td>\n",
       "      <td>NaN</td>\n",
       "      <td>bahri:hal-01797084</td>\n",
       "      <td>Bahri, Nejmeddine; Belhadj, Nidhameddine; Gran...</td>\n",
       "      <td>Real-time H264/AVC encoder based on enhanced f...</td>\n",
       "      <td>{Journal of Real-Time Image Processing}</td>\n",
       "      <td>12</td>\n",
       "      <td>4.0</td>\n",
       "      <td>December</td>\n",
       "      <td>791 - 812</td>\n",
       "      <td>...</td>\n",
       "      <td>NaN</td>\n",
       "      <td>NaN</td>\n",
       "      <td>NaN</td>\n",
       "      <td>NaN</td>\n",
       "      <td>NaN</td>\n",
       "      <td>NaN</td>\n",
       "      <td>NaN</td>\n",
       "      <td>H264/AVC encoder ; DSP ; multi-core ; Frame Le...</td>\n",
       "      <td>https://hal.archives-ouvertes.fr/hal-01797084/...</td>\n",
       "      <td>NaN</td>\n",
       "    </tr>\n",
       "    <tr>\n",
       "      <th>3</th>\n",
       "      <td>7</td>\n",
       "      <td>NaN</td>\n",
       "      <td>bennour:hal-01708912</td>\n",
       "      <td>Bennour, Alae; Moutier, Fr{'e}d{'e}ric; Polleu...</td>\n",
       "      <td>A Distributed Extended Ebers--Moll Model Topol...</td>\n",
       "      <td>{IEEE Transactions on Electron Devices}</td>\n",
       "      <td>64</td>\n",
       "      <td>5.0</td>\n",
       "      <td>May</td>\n",
       "      <td>2267 - 2274</td>\n",
       "      <td>...</td>\n",
       "      <td>NaN</td>\n",
       "      <td>NaN</td>\n",
       "      <td>NaN</td>\n",
       "      <td>NaN</td>\n",
       "      <td>NaN</td>\n",
       "      <td>NaN</td>\n",
       "      <td>NaN</td>\n",
       "      <td>NaN</td>\n",
       "      <td>NaN</td>\n",
       "      <td>NaN</td>\n",
       "    </tr>\n",
       "    <tr>\n",
       "      <th>4</th>\n",
       "      <td>7</td>\n",
       "      <td>NaN</td>\n",
       "      <td>bourdeau:hal-01648411</td>\n",
       "      <td>Bourdeau, Mathieu; Guo, Xiaofeng &amp; Nefzaoui, E.</td>\n",
       "      <td>Buildings energy consumption generation gap: a...</td>\n",
       "      <td>{Energy and Buildings}</td>\n",
       "      <td>NaN</td>\n",
       "      <td>NaN</td>\n",
       "      <td>NaN</td>\n",
       "      <td>NaN</td>\n",
       "      <td>...</td>\n",
       "      <td>NaN</td>\n",
       "      <td>NaN</td>\n",
       "      <td>NaN</td>\n",
       "      <td>NaN</td>\n",
       "      <td>NaN</td>\n",
       "      <td>NaN</td>\n",
       "      <td>NaN</td>\n",
       "      <td>statistical analysis ; Energy Consumption ; En...</td>\n",
       "      <td>https://hal.archives-ouvertes.fr/hal-01648411/...</td>\n",
       "      <td>NaN</td>\n",
       "    </tr>\n",
       "    <tr>\n",
       "      <th>...</th>\n",
       "      <td>...</td>\n",
       "      <td>...</td>\n",
       "      <td>...</td>\n",
       "      <td>...</td>\n",
       "      <td>...</td>\n",
       "      <td>...</td>\n",
       "      <td>...</td>\n",
       "      <td>...</td>\n",
       "      <td>...</td>\n",
       "      <td>...</td>\n",
       "      <td>...</td>\n",
       "      <td>...</td>\n",
       "      <td>...</td>\n",
       "      <td>...</td>\n",
       "      <td>...</td>\n",
       "      <td>...</td>\n",
       "      <td>...</td>\n",
       "      <td>...</td>\n",
       "      <td>...</td>\n",
       "      <td>...</td>\n",
       "      <td>...</td>\n",
       "    </tr>\n",
       "    <tr>\n",
       "      <th>130</th>\n",
       "      <td>10</td>\n",
       "      <td>NaN</td>\n",
       "      <td>jaffrezicrenault:hal-01579595</td>\n",
       "      <td>Jaffrezic-Renault, Nicole &amp; Lissorgues, Gaelle...</td>\n",
       "      <td>Sensors vol.17(8) Special Issue ''State-of-the...</td>\n",
       "      <td>NaN</td>\n",
       "      <td>NaN</td>\n",
       "      <td>NaN</td>\n",
       "      <td>NaN</td>\n",
       "      <td>NaN</td>\n",
       "      <td>...</td>\n",
       "      <td>NaN</td>\n",
       "      <td>NaN</td>\n",
       "      <td>NaN</td>\n",
       "      <td>NaN</td>\n",
       "      <td>NaN</td>\n",
       "      <td>NaN</td>\n",
       "      <td>NaN</td>\n",
       "      <td>Mechanical sensors ; MEMS ; RF MEMS ; MOEMS ; ...</td>\n",
       "      <td>NaN</td>\n",
       "      <td>NaN</td>\n",
       "    </tr>\n",
       "    <tr>\n",
       "      <th>131</th>\n",
       "      <td>10</td>\n",
       "      <td>NaN</td>\n",
       "      <td>midelet:hal-01637925</td>\n",
       "      <td>Midelet, Clyde; Le Pioufle, Bruno; Fran{c c}ai...</td>\n",
       "      <td>Analysis of dielectrophoretic trapping of func...</td>\n",
       "      <td>NaN</td>\n",
       "      <td>NaN</td>\n",
       "      <td>NaN</td>\n",
       "      <td>May</td>\n",
       "      <td>NaN</td>\n",
       "      <td>...</td>\n",
       "      <td>{Molecular Plasmonics 2017}</td>\n",
       "      <td>NaN</td>\n",
       "      <td>NaN</td>\n",
       "      <td>NaN</td>\n",
       "      <td>NaN</td>\n",
       "      <td>NaN</td>\n",
       "      <td>NaN</td>\n",
       "      <td>NaN</td>\n",
       "      <td>NaN</td>\n",
       "      <td>NaN</td>\n",
       "    </tr>\n",
       "    <tr>\n",
       "      <th>132</th>\n",
       "      <td>14</td>\n",
       "      <td>NaN</td>\n",
       "      <td>dutta:hal-01360457</td>\n",
       "      <td>Dutta, Kunal; Ghosh, Arijit &amp; Mustafa, Nabil</td>\n",
       "      <td>A new asymmetric correlation inequality for Ga...</td>\n",
       "      <td>NaN</td>\n",
       "      <td>NaN</td>\n",
       "      <td>NaN</td>\n",
       "      <td>September</td>\n",
       "      <td>NaN</td>\n",
       "      <td>...</td>\n",
       "      <td>NaN</td>\n",
       "      <td>NaN</td>\n",
       "      <td>NaN</td>\n",
       "      <td>NaN</td>\n",
       "      <td>NaN</td>\n",
       "      <td>NaN</td>\n",
       "      <td>NaN</td>\n",
       "      <td>Convex bodies ; Gaussian measure ; correlation...</td>\n",
       "      <td>https://hal.archives-ouvertes.fr/hal-01360457/...</td>\n",
       "      <td>NaN</td>\n",
       "    </tr>\n",
       "    <tr>\n",
       "      <th>133</th>\n",
       "      <td>14</td>\n",
       "      <td>NaN</td>\n",
       "      <td>hendel:hal-01375603</td>\n",
       "      <td>Hendel, Martin; Azos-Diaz, Karina &amp; Tremeac, B...</td>\n",
       "      <td>Behavioral Adaptation to Heat-Related Health R...</td>\n",
       "      <td>NaN</td>\n",
       "      <td>NaN</td>\n",
       "      <td>NaN</td>\n",
       "      <td>November</td>\n",
       "      <td>NaN</td>\n",
       "      <td>...</td>\n",
       "      <td>NaN</td>\n",
       "      <td>NaN</td>\n",
       "      <td>NaN</td>\n",
       "      <td>NaN</td>\n",
       "      <td>NaN</td>\n",
       "      <td>NaN</td>\n",
       "      <td>NaN</td>\n",
       "      <td>heat-waves ; heat-related mortality ; climate ...</td>\n",
       "      <td>https://hal.archives-ouvertes.fr/hal-01375603/...</td>\n",
       "      <td>NaN</td>\n",
       "    </tr>\n",
       "    <tr>\n",
       "      <th>134</th>\n",
       "      <td>14</td>\n",
       "      <td>NaN</td>\n",
       "      <td>julliand:hal-01589761</td>\n",
       "      <td>Julliand, Thibault; Nozick, Vincent; Echizen, ...</td>\n",
       "      <td>Using The Noise Density Down Projection To Exp...</td>\n",
       "      <td>NaN</td>\n",
       "      <td>NaN</td>\n",
       "      <td>NaN</td>\n",
       "      <td>August</td>\n",
       "      <td>NaN</td>\n",
       "      <td>...</td>\n",
       "      <td>NaN</td>\n",
       "      <td>NaN</td>\n",
       "      <td>NaN</td>\n",
       "      <td>NaN</td>\n",
       "      <td>NaN</td>\n",
       "      <td>NaN</td>\n",
       "      <td>NaN</td>\n",
       "      <td>Image forgery ; noise ; digital image forensics</td>\n",
       "      <td>https://hal.archives-ouvertes.fr/hal-01589761/...</td>\n",
       "      <td>NaN</td>\n",
       "    </tr>\n",
       "  </tbody>\n",
       "</table>\n",
       "<p>135 rows × 31 columns</p>\n",
       "</div>"
      ],
      "text/plain": [
       "     BibliographyType  ISBN                     Identifier  \\\n",
       "0                   7   NaN             allab:hal-01578585   \n",
       "1                   7   NaN             bahri:hal-01286949   \n",
       "2                   7   NaN             bahri:hal-01797084   \n",
       "3                   7   NaN           bennour:hal-01708912   \n",
       "4                   7   NaN          bourdeau:hal-01648411   \n",
       "..                ...   ...                            ...   \n",
       "130                10   NaN  jaffrezicrenault:hal-01579595   \n",
       "131                10   NaN           midelet:hal-01637925   \n",
       "132                14   NaN             dutta:hal-01360457   \n",
       "133                14   NaN            hendel:hal-01375603   \n",
       "134                14   NaN          julliand:hal-01589761   \n",
       "\n",
       "                                                Author  \\\n",
       "0    Allab, Yacine; Guo, Xiaofeng; Pellegrino, Marg...   \n",
       "1    Bahri, Nejmeddine; Grandpierre, Thierry; Ayed,...   \n",
       "2    Bahri, Nejmeddine; Belhadj, Nidhameddine; Gran...   \n",
       "3    Bennour, Alae; Moutier, Fr{'e}d{'e}ric; Polleu...   \n",
       "4      Bourdeau, Mathieu; Guo, Xiaofeng & Nefzaoui, E.   \n",
       "..                                                 ...   \n",
       "130  Jaffrezic-Renault, Nicole & Lissorgues, Gaelle...   \n",
       "131  Midelet, Clyde; Le Pioufle, Bruno; Fran{c c}ai...   \n",
       "132       Dutta, Kunal; Ghosh, Arijit & Mustafa, Nabil   \n",
       "133  Hendel, Martin; Azos-Diaz, Karina & Tremeac, B...   \n",
       "134  Julliand, Thibault; Nozick, Vincent; Echizen, ...   \n",
       "\n",
       "                                                 Title  \\\n",
       "0    Energy and comfort assessment in educational b...   \n",
       "1    Embedded Real-Time H264/AVC High Definition Vi...   \n",
       "2    Real-time H264/AVC encoder based on enhanced f...   \n",
       "3    A Distributed Extended Ebers--Moll Model Topol...   \n",
       "4    Buildings energy consumption generation gap: a...   \n",
       "..                                                 ...   \n",
       "130  Sensors vol.17(8) Special Issue ''State-of-the...   \n",
       "131  Analysis of dielectrophoretic trapping of func...   \n",
       "132  A new asymmetric correlation inequality for Ga...   \n",
       "133  Behavioral Adaptation to Heat-Related Health R...   \n",
       "134  Using The Noise Density Down Projection To Exp...   \n",
       "\n",
       "                                     Journal Volume  Number      Month  \\\n",
       "0                     {Energy and Buildings}    143     NaN        NaN   \n",
       "1     {Journal of Signal Processing Systems}     86     1.0        NaN   \n",
       "2    {Journal of Real-Time Image Processing}     12     4.0   December   \n",
       "3    {IEEE Transactions on Electron Devices}     64     5.0        May   \n",
       "4                     {Energy and Buildings}    NaN     NaN        NaN   \n",
       "..                                       ...    ...     ...        ...   \n",
       "130                                      NaN    NaN     NaN        NaN   \n",
       "131                                      NaN    NaN     NaN        May   \n",
       "132                                      NaN    NaN     NaN  September   \n",
       "133                                      NaN    NaN     NaN   November   \n",
       "134                                      NaN    NaN     NaN     August   \n",
       "\n",
       "           Pages  ...                 Howpublished Institution Organizations  \\\n",
       "0        202-219  ...                          NaN         NaN           NaN   \n",
       "1          67-84  ...                          NaN         NaN           NaN   \n",
       "2      791 - 812  ...                          NaN         NaN           NaN   \n",
       "3    2267 - 2274  ...                          NaN         NaN           NaN   \n",
       "4            NaN  ...                          NaN         NaN           NaN   \n",
       "..           ...  ...                          ...         ...           ...   \n",
       "130          NaN  ...                          NaN         NaN           NaN   \n",
       "131          NaN  ...  {Molecular Plasmonics 2017}         NaN           NaN   \n",
       "132          NaN  ...                          NaN         NaN           NaN   \n",
       "133          NaN  ...                          NaN         NaN           NaN   \n",
       "134          NaN  ...                          NaN         NaN           NaN   \n",
       "\n",
       "    School Annote  Custom1  Custom2  \\\n",
       "0      NaN    NaN      NaN      NaN   \n",
       "1      NaN    NaN      NaN      NaN   \n",
       "2      NaN    NaN      NaN      NaN   \n",
       "3      NaN    NaN      NaN      NaN   \n",
       "4      NaN    NaN      NaN      NaN   \n",
       "..     ...    ...      ...      ...   \n",
       "130    NaN    NaN      NaN      NaN   \n",
       "131    NaN    NaN      NaN      NaN   \n",
       "132    NaN    NaN      NaN      NaN   \n",
       "133    NaN    NaN      NaN      NaN   \n",
       "134    NaN    NaN      NaN      NaN   \n",
       "\n",
       "                                               Custom3  \\\n",
       "0    indoor air quality ; energy audit ; thermal co...   \n",
       "1     Real-time ; Embedded system ; GOP level paral...   \n",
       "2    H264/AVC encoder ; DSP ; multi-core ; Frame Le...   \n",
       "3                                                  NaN   \n",
       "4    statistical analysis ; Energy Consumption ; En...   \n",
       "..                                                 ...   \n",
       "130  Mechanical sensors ; MEMS ; RF MEMS ; MOEMS ; ...   \n",
       "131                                                NaN   \n",
       "132  Convex bodies ; Gaussian measure ; correlation...   \n",
       "133  heat-waves ; heat-related mortality ; climate ...   \n",
       "134    Image forgery ; noise ; digital image forensics   \n",
       "\n",
       "                                               Custom4 Custom5  \n",
       "0    https://hal.archives-ouvertes.fr/hal-01578585/...     NaN  \n",
       "1    https://hal.archives-ouvertes.fr/hal-01286949/...     NaN  \n",
       "2    https://hal.archives-ouvertes.fr/hal-01797084/...     NaN  \n",
       "3                                                  NaN     NaN  \n",
       "4    https://hal.archives-ouvertes.fr/hal-01648411/...     NaN  \n",
       "..                                                 ...     ...  \n",
       "130                                                NaN     NaN  \n",
       "131                                                NaN     NaN  \n",
       "132  https://hal.archives-ouvertes.fr/hal-01360457/...     NaN  \n",
       "133  https://hal.archives-ouvertes.fr/hal-01375603/...     NaN  \n",
       "134  https://hal.archives-ouvertes.fr/hal-01589761/...     NaN  \n",
       "\n",
       "[135 rows x 31 columns]"
      ]
     },
     "execution_count": 113,
     "metadata": {},
     "output_type": "execute_result"
    }
   ],
   "source": [
    "Tab = pd.read_csv(\"csv/2016-17.csv\", sep=\",\", header=0, escapechar=\"\\\\\", error_bad_lines=False)\n",
    "Tab "
   ]
  },
  {
   "cell_type": "code",
   "execution_count": 114,
   "metadata": {},
   "outputs": [
    {
     "data": {
      "text/plain": [
       "Index(['BibliographyType', 'ISBN', 'Identifier', 'Author', 'Title', 'Journal',\n",
       "       'Volume', 'Number', 'Month', 'Pages', 'Year', 'Address', 'Note', 'URL',\n",
       "       'Booktitle', 'Chapter', 'Edition', 'Series', 'Editor', 'Publisher',\n",
       "       'ReportType', 'Howpublished', 'Institution', 'Organizations', 'School',\n",
       "       'Annote', 'Custom1', 'Custom2', 'Custom3', 'Custom4', 'Custom5'],\n",
       "      dtype='object')"
      ]
     },
     "execution_count": 114,
     "metadata": {},
     "output_type": "execute_result"
    }
   ],
   "source": [
    "Tab.columns"
   ]
  },
  {
   "cell_type": "code",
   "execution_count": 115,
   "metadata": {},
   "outputs": [],
   "source": [
    "authorsDict = {u.nom.lower():u for u in ESIEEAuthor.query.all()}"
   ]
  },
  {
   "cell_type": "code",
   "execution_count": 116,
   "metadata": {},
   "outputs": [
    {
     "data": {
      "text/plain": [
       "dict_keys(['myriam', 'bill', 'joe', 'kelly', 'bertrand', 'mainwaring', 'baudoin', 'de cambry', 'fakri', 'couprie', 'serrano', 'villegas', 'anderson', 'dhermies', 'georges', 'latorre', 'degny', 'kahane', 'reama', 'cela', 'lahille', 'natowicz', 'roudier', 'douay', 'sevely', 'mimoun', 'reille', 'venard', 'wirth', 'bureau', 'debbasch', 'lefebvre', 'schoen', 'eve', 'blanchard', 'courivaud', 'chu', 'bercher', 'delabie', 'perroton', 'pointet', 'poulichet', 'talbot', 'todman', 'berland', 'george', 'najman', 'bourouina', 'zampera', 'madaoui', 'redis', 'habib', 'lissorgues', 'francais', 'grandpierre', 'kocik', 'roy', 'exertier', 'basset', 'castro goncalves', 'gervais de lafond', 'valbin', 'hamouche', 'hilaire', 'abdeddaim', 'buzer', 'polleux', 'zitoune', 'dokladalova', 'algre', 'berraf', 'delemarle', 'mustafa', 'gardes', 'kachouri', 'noury', 'zangar', 'cousty', 'nadal', 'villard', 'ait saadi', 'alves', 'masson', 'ugon', 'wang', 'chierchia', 'guo', 'nefzaoui', 'perret', 'negrel', 'behiri', 'hendel', 'sahli', 'drain'])"
      ]
     },
     "execution_count": 116,
     "metadata": {},
     "output_type": "execute_result"
    }
   ],
   "source": [
    "authorsDict.keys()"
   ]
  },
  {
   "cell_type": "code",
   "execution_count": 117,
   "metadata": {},
   "outputs": [],
   "source": [
    "\"\"\"from app import db\n",
    "from app.models import ESIEEAuthor, Labos\n",
    "\n",
    "import csv\n",
    "import re\"\"\"\n",
    "\n",
    "def splitAuthors(authors):\n",
    "    l = authors.split(';')\n",
    "    w = [x.split(',')[0].strip() for x in l]\n",
    "    if '&' in l[-1]:\n",
    "        w.append(l[-1].split('&')[1].split(',')[0].strip())\n",
    "    return w\n",
    "\n",
    "import pandas as pd\n",
    "\n",
    "\n",
    "Tab = pd.read_csv(\"csv/2018-19.csv\", sep=\",\", header=0, escapechar=\"\\\\\", error_bad_lines=False)\n",
    "\n",
    "listColumns = ['BibliographyType', 'ISBN', 'Identifier', 'Author', 'Title', 'Journal',\n",
    "       'Volume', 'Number', 'Month', 'Pages', 'Year', 'Address', 'Note', 'URL',\n",
    "       'Booktitle', 'Chapter', 'Edition', 'Series', 'Editor', 'Publisher',\n",
    "       'ReportType', 'Howpublished', 'Institution', 'Organizations', 'School',\n",
    "       'Annote', 'Custom1', 'Custom2', 'Custom3', 'Custom4', 'Custom5'],\n",
    "\n",
    "for idx in Tab.index:\n",
    "        \n",
    "    if not Publis.query.filter(Publis.Identifier==Tab.loc[idx, 'Identifier']).first(): #Test si pas déjà dans la base       \n",
    "        authors = splitAuthors(Tab.loc[idx, 'Author'])\n",
    "        listAuthors = []\n",
    "        for author in authors:\n",
    "            if author.lower() in authorsDict.keys():\n",
    "                listAuthors.append(authorsDict[author.lower()])\n",
    "\n",
    "        publi = Publis()\n",
    "            #id = Tab.loc[idx, 'Identifier']) \n",
    "        for attribut in dir(publi): \n",
    "            if not attribut.startswith('_') :\n",
    "                try:\n",
    "                    if not attribut=='Year': \n",
    "                        setattr(publi, attribut, Tab.loc[idx, attribut])\n",
    "                except:\n",
    "                    pass\n",
    "        publi.Author = listAuthors \n",
    "        publi.Year = int(Tab.loc[idx,'Year'])\n",
    "        publi.authors = Tab.loc[idx, 'Author']\n",
    "        db.session.add(publi)\n",
    "        db.session.commit()"
   ]
  },
  {
   "cell_type": "code",
   "execution_count": null,
   "metadata": {},
   "outputs": [],
   "source": []
  },
  {
   "cell_type": "markdown",
   "metadata": {},
   "source": [
    "### Exemples d'utilisation/interrogation"
   ]
  },
  {
   "cell_type": "code",
   "execution_count": 122,
   "metadata": {
    "collapsed": true
   },
   "outputs": [
    {
     "data": {
      "text/plain": [
       "[<Author BERTRAND>,\n",
       " <Author COUPRIE>,\n",
       " <Author CHU>,\n",
       " <Author BERCHER>,\n",
       " <Author TALBOT>,\n",
       " <Author GEORGE>,\n",
       " <Author NAJMAN>,\n",
       " <Author GRANDPIERRE>,\n",
       " <Author HILAIRE>,\n",
       " <Author ABDEDDAIM>,\n",
       " <Author BUZER>,\n",
       " <Author DOKLADALOVA>,\n",
       " <Author BERRAF>,\n",
       " <Author MUSTAFA>,\n",
       " <Author KACHOURI>,\n",
       " <Author ZANGAR>,\n",
       " <Author COUSTY>,\n",
       " <Author AIT SAADI>,\n",
       " <Author MASSON>,\n",
       " <Author WANG>,\n",
       " <Author CHIERCHIA>,\n",
       " <Author PERRET>,\n",
       " <Author NEGREL>,\n",
       " <Author SAHLI>]"
      ]
     },
     "execution_count": 122,
     "metadata": {},
     "output_type": "execute_result"
    }
   ],
   "source": [
    "# Auteurs d'un labo\n",
    "Labo.query.filter(Labo.labname=='LIGM').first().membres.filter().all()"
   ]
  },
  {
   "cell_type": "code",
   "execution_count": 123,
   "metadata": {},
   "outputs": [
    {
     "data": {
      "text/plain": [
       "[<Publis robic:hal-02155490>, <Publis robic:hal-02169702>]"
      ]
     },
     "execution_count": 123,
     "metadata": {},
     "output_type": "execute_result"
    }
   ],
   "source": [
    "# publi d'un auteur\n",
    "ll = ESIEEAuthor.query.filter(ESIEEAuthor.nom=='COUPRIE').first().publis\n",
    "ll"
   ]
  },
  {
   "cell_type": "code",
   "execution_count": 125,
   "metadata": {},
   "outputs": [],
   "source": [
    "# toutes les pubs d'un labo\n",
    "w = Publis.query.join(Publis.Author).join(ESIEEAuthor.labo).filter(Labo.labname==\"LIGM\").all() "
   ]
  },
  {
   "cell_type": "code",
   "execution_count": 127,
   "metadata": {},
   "outputs": [],
   "source": [
    "# Toutes les pubs d'un labo sur une période\n",
    "pp = Publis.query.join(Publis.Author).join(ESIEEAuthor.labo).filter(Labo.labname==\"LIGM\")\\\n",
    "   .filter(Publis.Year<2018).filter(Publis.Year>2016).all() \n",
    "for x in pp: \n",
    "    print(x.Identifier, x.Year)"
   ]
  },
  {
   "cell_type": "code",
   "execution_count": null,
   "metadata": {},
   "outputs": [],
   "source": []
  },
  {
   "cell_type": "code",
   "execution_count": null,
   "metadata": {},
   "outputs": [],
   "source": []
  },
  {
   "cell_type": "code",
   "execution_count": null,
   "metadata": {},
   "outputs": [],
   "source": []
  },
  {
   "cell_type": "code",
   "execution_count": null,
   "metadata": {},
   "outputs": [],
   "source": []
  },
  {
   "cell_type": "code",
   "execution_count": null,
   "metadata": {},
   "outputs": [],
   "source": []
  },
  {
   "cell_type": "code",
   "execution_count": null,
   "metadata": {},
   "outputs": [],
   "source": []
  },
  {
   "cell_type": "code",
   "execution_count": null,
   "metadata": {},
   "outputs": [],
   "source": []
  },
  {
   "cell_type": "code",
   "execution_count": 128,
   "metadata": {},
   "outputs": [],
   "source": [
    "for attribut in dir(publi): \n",
    "    if not attribut.startswith('_') :\n",
    "        try:\n",
    "            setattr(publi, attribut, Tab.loc[idx, attribut])\n",
    "        except:\n",
    "            pass\n",
    "publi.Author = listAuthors        "
   ]
  },
  {
   "cell_type": "code",
   "execution_count": 129,
   "metadata": {},
   "outputs": [
    {
     "data": {
      "text/plain": [
       "[<Lab LIGM>, <Lab LIGM>, <Lab LIGM>]"
      ]
     },
     "execution_count": 129,
     "metadata": {},
     "output_type": "execute_result"
    }
   ],
   "source": [
    "[a.labo for a in listAuthors]"
   ]
  },
  {
   "cell_type": "markdown",
   "metadata": {},
   "source": [
    "### Génération d'un graphique\n"
   ]
  },
  {
   "cell_type": "code",
   "execution_count": 131,
   "metadata": {},
   "outputs": [],
   "source": [
    "ListeAuthors = [(au.nom,au.nom) for au in ESIEEAuthor.query.all()]"
   ]
  },
  {
   "cell_type": "code",
   "execution_count": 132,
   "metadata": {},
   "outputs": [
    {
     "data": {
      "text/html": [
       "\n",
       "\n",
       "\n",
       "\n",
       "\n",
       "\n",
       "  <div class=\"bk-root\" id=\"937db2c5-f55e-4e0c-b446-1739fa06bf7c\" data-root-id=\"1376\"></div>\n"
      ]
     },
     "metadata": {},
     "output_type": "display_data"
    },
    {
     "data": {
      "application/javascript": [
       "(function(root) {\n",
       "  function embed_document(root) {\n",
       "    \n",
       "  var docs_json = {\"74e4b775-da1e-4d6d-86dc-ef2f72492aa8\":{\"roots\":{\"references\":[{\"attributes\":{\"below\":[{\"id\":\"1387\"}],\"center\":[{\"id\":\"1390\"},{\"id\":\"1394\"},{\"id\":\"1424\"}],\"left\":[{\"id\":\"1391\"}],\"output_backend\":\"webgl\",\"plot_height\":400,\"renderers\":[{\"id\":\"1415\"}],\"sizing_mode\":\"fixed\",\"title\":{\"id\":\"1377\"},\"toolbar\":{\"id\":\"1402\"},\"x_range\":{\"id\":\"1379\"},\"x_scale\":{\"id\":\"1383\"},\"y_range\":{\"id\":\"1381\"},\"y_scale\":{\"id\":\"1385\"}},\"id\":\"1376\",\"subtype\":\"Figure\",\"type\":\"Plot\"},{\"attributes\":{\"axis_label\":\"vals\",\"formatter\":{\"id\":\"1418\"},\"ticker\":{\"id\":\"1392\"}},\"id\":\"1391\",\"type\":\"LinearAxis\"},{\"attributes\":{},\"id\":\"1385\",\"type\":\"LinearScale\"},{\"attributes\":{\"code\":\"\\n                                    var labels = {0: '2018-01-01', 1: '2018-02-01', 2: '2018-03-01', 3: '2018-04-01', 4: '2018-05-01', 5: '2018-06-01', 6: '2018-07-01', 7: '2018-08-01', 8: '2018-09-01', 9: '2018-10-01', 10: '2018-11-01', 11: '2018-12-01', 12: '2019-01-01', 13: '2019-02-01', 14: '2019-03-01', 15: '2019-04-01', 16: '2019-05-01', 17: '2019-06-01', 18: '2019-07-01', 19: '2019-08-01', 20: '2019-09-01', 21: '2019-10-01', 22: '2019-11-01', 23: '2019-12-01'};\\n                                    return labels[tick];\\n                                    \"},\"id\":\"1409\",\"type\":\"FuncTickFormatter\"},{\"attributes\":{\"text\":\"\"},\"id\":\"1377\",\"type\":\"Title\"},{\"attributes\":{\"active_drag\":\"auto\",\"active_inspect\":\"auto\",\"active_multi\":null,\"active_scroll\":{\"id\":\"1396\"},\"active_tap\":\"auto\",\"tools\":[{\"id\":\"1395\"},{\"id\":\"1396\"},{\"id\":\"1397\"},{\"id\":\"1398\"},{\"id\":\"1399\"},{\"id\":\"1400\"},{\"id\":\"1426\"}]},\"id\":\"1402\",\"type\":\"Toolbar\"},{\"attributes\":{\"bottom_units\":\"screen\",\"fill_alpha\":0.5,\"fill_color\":\"lightgrey\",\"left_units\":\"screen\",\"level\":\"overlay\",\"line_alpha\":1.0,\"line_color\":\"black\",\"line_dash\":[4,4],\"line_width\":2,\"right_units\":\"screen\",\"top_units\":\"screen\"},\"id\":\"1401\",\"type\":\"BoxAnnotation\"},{\"attributes\":{},\"id\":\"1379\",\"type\":\"DataRange1d\"},{\"attributes\":{\"formatter\":{\"id\":\"1409\"},\"major_label_orientation\":1.5707963267948966,\"ticker\":{\"id\":\"1428\"}},\"id\":\"1387\",\"type\":\"LinearAxis\"},{\"attributes\":{},\"id\":\"1381\",\"type\":\"DataRange1d\"},{\"attributes\":{},\"id\":\"1383\",\"type\":\"LinearScale\"},{\"attributes\":{},\"id\":\"1396\",\"type\":\"WheelZoomTool\"},{\"attributes\":{\"axis\":{\"id\":\"1387\"},\"ticker\":null},\"id\":\"1390\",\"type\":\"Grid\"},{\"attributes\":{\"fill_alpha\":{\"value\":0.1},\"fill_color\":{\"value\":\"#1f77b4\"},\"line_alpha\":{\"value\":0.1},\"line_color\":{\"value\":\"#1f77b4\"},\"line_width\":{\"value\":2},\"top\":{\"field\":\"vals\"},\"width\":{\"value\":0.7},\"x\":{\"field\":\"__x__values\",\"transform\":{\"id\":\"1411\"}}},\"id\":\"1414\",\"type\":\"VBar\"},{\"attributes\":{\"data\":{\"__x__values\":[0,1,2,3,4,5,6,7,8,9,10,11,12,13,14,15,16,17,18,19,20,21,22,23],\"__x__values_original\":[\"2018-01-01\",\"2018-02-01\",\"2018-03-01\",\"2018-04-01\",\"2018-05-01\",\"2018-06-01\",\"2018-07-01\",\"2018-08-01\",\"2018-09-01\",\"2018-10-01\",\"2018-11-01\",\"2018-12-01\",\"2019-01-01\",\"2019-02-01\",\"2019-03-01\",\"2019-04-01\",\"2019-05-01\",\"2019-06-01\",\"2019-07-01\",\"2019-08-01\",\"2019-09-01\",\"2019-10-01\",\"2019-11-01\",\"2019-12-01\"],\"vals\":[0,0,0,0,0,0,0,0,4,2,5,5,14,5,2,8,5,9,5,1,0,0,0,0]},\"selected\":{\"id\":\"1422\"},\"selection_policy\":{\"id\":\"1421\"}},\"id\":\"1375\",\"type\":\"ColumnDataSource\"},{\"attributes\":{\"axis\":{\"id\":\"1391\"},\"dimension\":1,\"ticker\":null},\"id\":\"1394\",\"type\":\"Grid\"},{\"attributes\":{\"data_source\":{\"id\":\"1375\"},\"glyph\":{\"id\":\"1413\"},\"hover_glyph\":null,\"muted_glyph\":null,\"nonselection_glyph\":{\"id\":\"1414\"},\"selection_glyph\":null,\"view\":{\"id\":\"1416\"}},\"id\":\"1415\",\"type\":\"GlyphRenderer\"},{\"attributes\":{},\"id\":\"1392\",\"type\":\"BasicTicker\"},{\"attributes\":{},\"id\":\"1418\",\"type\":\"BasicTickFormatter\"},{\"attributes\":{\"click_policy\":\"hide\",\"items\":[{\"id\":\"1425\"}]},\"id\":\"1424\",\"type\":\"Legend\"},{\"attributes\":{\"range\":{\"id\":\"1379\"}},\"id\":\"1411\",\"type\":\"Dodge\"},{\"attributes\":{\"callback\":null,\"mode\":\"vline\",\"renderers\":[{\"id\":\"1415\"}],\"tooltips\":[[\"x\",\"@__x__values_original\"],[\"vals\",\"@{vals}\"]]},\"id\":\"1426\",\"type\":\"HoverTool\"},{\"attributes\":{},\"id\":\"1400\",\"type\":\"HelpTool\"},{\"attributes\":{},\"id\":\"1395\",\"type\":\"PanTool\"},{\"attributes\":{\"label\":{\"value\":\" vals\"},\"renderers\":[{\"id\":\"1415\"}]},\"id\":\"1425\",\"type\":\"LegendItem\"},{\"attributes\":{\"overlay\":{\"id\":\"1401\"}},\"id\":\"1397\",\"type\":\"BoxZoomTool\"},{\"attributes\":{},\"id\":\"1398\",\"type\":\"SaveTool\"},{\"attributes\":{},\"id\":\"1421\",\"type\":\"UnionRenderers\"},{\"attributes\":{\"ticks\":[0,1,2,3,4,5,6,7,8,9,10,11,12,13,14,15,16,17,18,19,20,21,22,23]},\"id\":\"1428\",\"type\":\"FixedTicker\"},{\"attributes\":{},\"id\":\"1422\",\"type\":\"Selection\"},{\"attributes\":{},\"id\":\"1399\",\"type\":\"ResetTool\"},{\"attributes\":{\"source\":{\"id\":\"1375\"}},\"id\":\"1416\",\"type\":\"CDSView\"},{\"attributes\":{\"fill_color\":{\"value\":\"#1f77b4\"},\"line_color\":{\"value\":\"#1f77b4\"},\"line_width\":{\"value\":2},\"top\":{\"field\":\"vals\"},\"width\":{\"value\":0.7},\"x\":{\"field\":\"__x__values\",\"transform\":{\"id\":\"1411\"}}},\"id\":\"1413\",\"type\":\"VBar\"}],\"root_ids\":[\"1376\"]},\"title\":\"Bokeh Application\",\"version\":\"2.2.1\"}};\n",
       "  var render_items = [{\"docid\":\"74e4b775-da1e-4d6d-86dc-ef2f72492aa8\",\"root_ids\":[\"1376\"],\"roots\":{\"1376\":\"937db2c5-f55e-4e0c-b446-1739fa06bf7c\"}}];\n",
       "  root.Bokeh.embed.embed_items_notebook(docs_json, render_items);\n",
       "\n",
       "  }\n",
       "  if (root.Bokeh !== undefined) {\n",
       "    embed_document(root);\n",
       "  } else {\n",
       "    var attempts = 0;\n",
       "    var timer = setInterval(function(root) {\n",
       "      if (root.Bokeh !== undefined) {\n",
       "        clearInterval(timer);\n",
       "        embed_document(root);\n",
       "      } else {\n",
       "        attempts++;\n",
       "        if (attempts > 100) {\n",
       "          clearInterval(timer);\n",
       "          console.log(\"Bokeh: ERROR: Unable to run BokehJS code because BokehJS library is missing\");\n",
       "        }\n",
       "      }\n",
       "    }, 10, root)\n",
       "  }\n",
       "})(window);"
      ],
      "application/vnd.bokehjs_exec.v0+json": ""
     },
     "metadata": {
      "application/vnd.bokehjs_exec.v0+json": {
       "id": "1376"
      }
     },
     "output_type": "display_data"
    }
   ],
   "source": [
    "from datetime import date\n",
    "labo = \"LIGM\"\n",
    "allPubs = Publis.query.join(Publis.Author).join(ESIEEAuthor.labo).filter(Labo.labname==labo).all() \n",
    "monthsDict = {'January': 1, 'February':2, 'March':3, 'April':4, 'May':5, 'June':6, 'July':7, 'August':8, \n",
    "              'September':9, 'October':10, 'November':11, 'December':12 , None:1}\n",
    "listDates = [date(pub.Year, monthsDict[pub.Month], 1) for pub in allPubs]\n",
    "dateIndex = pd.date_range('2018-01-01', periods=24, freq='MS').to_native_types()\n",
    "tab = pd.DataFrame(index=dateIndex, columns=['vals'])\n",
    "tab['vals'] = 0\n",
    "for d in listDates:\n",
    "    tab.loc[str(d), 'vals'] = tab.loc[str(d), 'vals']+1\n",
    "\n",
    "pd.options.plotting.backend = \"pandas_bokeh\"\n",
    "w = tab.plot(kind='bar',vertical_xlabel=True, return_html=True)\n"
   ]
  },
  {
   "cell_type": "code",
   "execution_count": 133,
   "metadata": {},
   "outputs": [],
   "source": [
    "import matplotlib.pyplot as plt"
   ]
  },
  {
   "cell_type": "code",
   "execution_count": 134,
   "metadata": {},
   "outputs": [],
   "source": [
    "import bokeh"
   ]
  },
  {
   "cell_type": "code",
   "execution_count": 135,
   "metadata": {},
   "outputs": [],
   "source": [
    "pd.options.plotting.backend = \"pandas_bokeh\""
   ]
  },
  {
   "cell_type": "code",
   "execution_count": 136,
   "metadata": {},
   "outputs": [
    {
     "data": {
      "text/html": [
       "\n",
       "\n",
       "\n",
       "\n",
       "\n",
       "\n",
       "  <div class=\"bk-root\" id=\"7ffa9481-a3c9-4db0-a49c-768917b9eb2d\" data-root-id=\"1520\"></div>\n"
      ]
     },
     "metadata": {},
     "output_type": "display_data"
    },
    {
     "data": {
      "application/javascript": [
       "(function(root) {\n",
       "  function embed_document(root) {\n",
       "    \n",
       "  var docs_json = {\"5972bf02-6095-40ae-9c69-508dda50bcc7\":{\"roots\":{\"references\":[{\"attributes\":{\"below\":[{\"id\":\"1531\"}],\"center\":[{\"id\":\"1534\"},{\"id\":\"1538\"},{\"id\":\"1568\"}],\"left\":[{\"id\":\"1535\"}],\"output_backend\":\"webgl\",\"plot_height\":400,\"renderers\":[{\"id\":\"1559\"}],\"sizing_mode\":\"fixed\",\"title\":{\"id\":\"1521\"},\"toolbar\":{\"id\":\"1546\"},\"x_range\":{\"id\":\"1523\"},\"x_scale\":{\"id\":\"1527\"},\"y_range\":{\"id\":\"1525\"},\"y_scale\":{\"id\":\"1529\"}},\"id\":\"1520\",\"subtype\":\"Figure\",\"type\":\"Plot\"},{\"attributes\":{},\"id\":\"1544\",\"type\":\"HelpTool\"},{\"attributes\":{\"code\":\"\\n                                    var labels = {0: '2018-01-01', 1: '2018-02-01', 2: '2018-03-01', 3: '2018-04-01', 4: '2018-05-01', 5: '2018-06-01', 6: '2018-07-01', 7: '2018-08-01', 8: '2018-09-01', 9: '2018-10-01', 10: '2018-11-01', 11: '2018-12-01', 12: '2019-01-01', 13: '2019-02-01', 14: '2019-03-01', 15: '2019-04-01', 16: '2019-05-01', 17: '2019-06-01', 18: '2019-07-01', 19: '2019-08-01', 20: '2019-09-01', 21: '2019-10-01', 22: '2019-11-01', 23: '2019-12-01'};\\n                                    return labels[tick];\\n                                    \"},\"id\":\"1553\",\"type\":\"FuncTickFormatter\"},{\"attributes\":{},\"id\":\"1529\",\"type\":\"LinearScale\"},{\"attributes\":{},\"id\":\"1566\",\"type\":\"Selection\"},{\"attributes\":{\"axis_label\":\"vals\",\"formatter\":{\"id\":\"1562\"},\"ticker\":{\"id\":\"1536\"}},\"id\":\"1535\",\"type\":\"LinearAxis\"},{\"attributes\":{\"fill_alpha\":{\"value\":0.1},\"fill_color\":{\"value\":\"#1f77b4\"},\"line_alpha\":{\"value\":0.1},\"line_color\":{\"value\":\"#1f77b4\"},\"line_width\":{\"value\":2},\"top\":{\"field\":\"vals\"},\"width\":{\"value\":0.7},\"x\":{\"field\":\"__x__values\",\"transform\":{\"id\":\"1555\"}}},\"id\":\"1558\",\"type\":\"VBar\"},{\"attributes\":{},\"id\":\"1562\",\"type\":\"BasicTickFormatter\"},{\"attributes\":{\"data_source\":{\"id\":\"1519\"},\"glyph\":{\"id\":\"1557\"},\"hover_glyph\":null,\"muted_glyph\":null,\"nonselection_glyph\":{\"id\":\"1558\"},\"selection_glyph\":null,\"view\":{\"id\":\"1560\"}},\"id\":\"1559\",\"type\":\"GlyphRenderer\"},{\"attributes\":{},\"id\":\"1527\",\"type\":\"LinearScale\"},{\"attributes\":{\"overlay\":{\"id\":\"1545\"}},\"id\":\"1541\",\"type\":\"BoxZoomTool\"},{\"attributes\":{\"axis\":{\"id\":\"1535\"},\"dimension\":1,\"ticker\":null},\"id\":\"1538\",\"type\":\"Grid\"},{\"attributes\":{\"click_policy\":\"hide\",\"items\":[{\"id\":\"1569\"}]},\"id\":\"1568\",\"type\":\"Legend\"},{\"attributes\":{\"axis\":{\"id\":\"1531\"},\"ticker\":null},\"id\":\"1534\",\"type\":\"Grid\"},{\"attributes\":{\"data\":{\"__x__values\":[0,1,2,3,4,5,6,7,8,9,10,11,12,13,14,15,16,17,18,19,20,21,22,23],\"__x__values_original\":[\"2018-01-01\",\"2018-02-01\",\"2018-03-01\",\"2018-04-01\",\"2018-05-01\",\"2018-06-01\",\"2018-07-01\",\"2018-08-01\",\"2018-09-01\",\"2018-10-01\",\"2018-11-01\",\"2018-12-01\",\"2019-01-01\",\"2019-02-01\",\"2019-03-01\",\"2019-04-01\",\"2019-05-01\",\"2019-06-01\",\"2019-07-01\",\"2019-08-01\",\"2019-09-01\",\"2019-10-01\",\"2019-11-01\",\"2019-12-01\"],\"vals\":[0,0,0,0,0,0,0,0,4,2,5,5,14,5,2,8,5,9,5,1,0,0,0,0]},\"selected\":{\"id\":\"1566\"},\"selection_policy\":{\"id\":\"1565\"}},\"id\":\"1519\",\"type\":\"ColumnDataSource\"},{\"attributes\":{},\"id\":\"1565\",\"type\":\"UnionRenderers\"},{\"attributes\":{\"range\":{\"id\":\"1523\"}},\"id\":\"1555\",\"type\":\"Dodge\"},{\"attributes\":{\"bottom_units\":\"screen\",\"fill_alpha\":0.5,\"fill_color\":\"lightgrey\",\"left_units\":\"screen\",\"level\":\"overlay\",\"line_alpha\":1.0,\"line_color\":\"black\",\"line_dash\":[4,4],\"line_width\":2,\"right_units\":\"screen\",\"top_units\":\"screen\"},\"id\":\"1545\",\"type\":\"BoxAnnotation\"},{\"attributes\":{\"active_drag\":\"auto\",\"active_inspect\":\"auto\",\"active_multi\":null,\"active_scroll\":{\"id\":\"1540\"},\"active_tap\":\"auto\",\"tools\":[{\"id\":\"1539\"},{\"id\":\"1540\"},{\"id\":\"1541\"},{\"id\":\"1542\"},{\"id\":\"1543\"},{\"id\":\"1544\"},{\"id\":\"1570\"}]},\"id\":\"1546\",\"type\":\"Toolbar\"},{\"attributes\":{},\"id\":\"1523\",\"type\":\"DataRange1d\"},{\"attributes\":{\"text\":\"\"},\"id\":\"1521\",\"type\":\"Title\"},{\"attributes\":{},\"id\":\"1525\",\"type\":\"DataRange1d\"},{\"attributes\":{\"ticks\":[0,1,2,3,4,5,6,7,8,9,10,11,12,13,14,15,16,17,18,19,20,21,22,23]},\"id\":\"1572\",\"type\":\"FixedTicker\"},{\"attributes\":{},\"id\":\"1542\",\"type\":\"SaveTool\"},{\"attributes\":{},\"id\":\"1540\",\"type\":\"WheelZoomTool\"},{\"attributes\":{\"formatter\":{\"id\":\"1553\"},\"major_label_orientation\":1.5707963267948966,\"ticker\":{\"id\":\"1572\"}},\"id\":\"1531\",\"type\":\"LinearAxis\"},{\"attributes\":{\"source\":{\"id\":\"1519\"}},\"id\":\"1560\",\"type\":\"CDSView\"},{\"attributes\":{},\"id\":\"1536\",\"type\":\"BasicTicker\"},{\"attributes\":{\"label\":{\"value\":\" vals\"},\"renderers\":[{\"id\":\"1559\"}]},\"id\":\"1569\",\"type\":\"LegendItem\"},{\"attributes\":{\"fill_color\":{\"value\":\"#1f77b4\"},\"line_color\":{\"value\":\"#1f77b4\"},\"line_width\":{\"value\":2},\"top\":{\"field\":\"vals\"},\"width\":{\"value\":0.7},\"x\":{\"field\":\"__x__values\",\"transform\":{\"id\":\"1555\"}}},\"id\":\"1557\",\"type\":\"VBar\"},{\"attributes\":{},\"id\":\"1543\",\"type\":\"ResetTool\"},{\"attributes\":{},\"id\":\"1539\",\"type\":\"PanTool\"},{\"attributes\":{\"callback\":null,\"mode\":\"vline\",\"renderers\":[{\"id\":\"1559\"}],\"tooltips\":[[\"x\",\"@__x__values_original\"],[\"vals\",\"@{vals}\"]]},\"id\":\"1570\",\"type\":\"HoverTool\"}],\"root_ids\":[\"1520\"]},\"title\":\"Bokeh Application\",\"version\":\"2.2.1\"}};\n",
       "  var render_items = [{\"docid\":\"5972bf02-6095-40ae-9c69-508dda50bcc7\",\"root_ids\":[\"1520\"],\"roots\":{\"1520\":\"7ffa9481-a3c9-4db0-a49c-768917b9eb2d\"}}];\n",
       "  root.Bokeh.embed.embed_items_notebook(docs_json, render_items);\n",
       "\n",
       "  }\n",
       "  if (root.Bokeh !== undefined) {\n",
       "    embed_document(root);\n",
       "  } else {\n",
       "    var attempts = 0;\n",
       "    var timer = setInterval(function(root) {\n",
       "      if (root.Bokeh !== undefined) {\n",
       "        clearInterval(timer);\n",
       "        embed_document(root);\n",
       "      } else {\n",
       "        attempts++;\n",
       "        if (attempts > 100) {\n",
       "          clearInterval(timer);\n",
       "          console.log(\"Bokeh: ERROR: Unable to run BokehJS code because BokehJS library is missing\");\n",
       "        }\n",
       "      }\n",
       "    }, 10, root)\n",
       "  }\n",
       "})(window);"
      ],
      "application/vnd.bokehjs_exec.v0+json": ""
     },
     "metadata": {
      "application/vnd.bokehjs_exec.v0+json": {
       "id": "1520"
      }
     },
     "output_type": "display_data"
    }
   ],
   "source": [
    "w = tab.plot(kind='bar',vertical_xlabel=True, return_html=True)"
   ]
  },
  {
   "cell_type": "code",
   "execution_count": 137,
   "metadata": {},
   "outputs": [
    {
     "data": {
      "text/html": [
       "<script src=\"https://cdn.bokeh.org/bokeh/release/bokeh-2.2.1.min.js\"></script>\n",
       "<script src=\"https://cdn.bokeh.org/bokeh/release/bokeh-widgets-2.2.1.min.js\"></script>\n",
       "<script src=\"https://cdn.bokeh.org/bokeh/release/bokeh-tables-2.2.1.min.js\"></script>\n",
       "\n",
       "\n",
       "\n",
       "<div class=\"bk-root\" id=\"4dabae19-4849-492f-a780-5db36d70a49c\" data-root-id=\"1520\"></div>\n",
       "\n",
       "\n",
       "<script type=\"text/javascript\">\n",
       "    (function() {\n",
       "          var fn = function() {\n",
       "            Bokeh.safely(function() {\n",
       "              (function(root) {\n",
       "                function embed_document(root) {\n",
       "                  \n",
       "                var docs_json = '{\"8f28368c-c7b7-4eaf-8bef-61f7ab2a0386\":{\"roots\":{\"references\":[{\"attributes\":{\"below\":[{\"id\":\"1531\"}],\"center\":[{\"id\":\"1534\"},{\"id\":\"1538\"},{\"id\":\"1568\"}],\"left\":[{\"id\":\"1535\"}],\"output_backend\":\"webgl\",\"plot_height\":400,\"renderers\":[{\"id\":\"1559\"}],\"sizing_mode\":\"fixed\",\"title\":{\"id\":\"1521\"},\"toolbar\":{\"id\":\"1546\"},\"x_range\":{\"id\":\"1523\"},\"x_scale\":{\"id\":\"1527\"},\"y_range\":{\"id\":\"1525\"},\"y_scale\":{\"id\":\"1529\"}},\"id\":\"1520\",\"subtype\":\"Figure\",\"type\":\"Plot\"},{\"attributes\":{},\"id\":\"1544\",\"type\":\"HelpTool\"},{\"attributes\":{\"code\":\"\\\\n                                    var labels = {0: &#x27;2018-01-01&#x27;, 1: &#x27;2018-02-01&#x27;, 2: &#x27;2018-03-01&#x27;, 3: &#x27;2018-04-01&#x27;, 4: &#x27;2018-05-01&#x27;, 5: &#x27;2018-06-01&#x27;, 6: &#x27;2018-07-01&#x27;, 7: &#x27;2018-08-01&#x27;, 8: &#x27;2018-09-01&#x27;, 9: &#x27;2018-10-01&#x27;, 10: &#x27;2018-11-01&#x27;, 11: &#x27;2018-12-01&#x27;, 12: &#x27;2019-01-01&#x27;, 13: &#x27;2019-02-01&#x27;, 14: &#x27;2019-03-01&#x27;, 15: &#x27;2019-04-01&#x27;, 16: &#x27;2019-05-01&#x27;, 17: &#x27;2019-06-01&#x27;, 18: &#x27;2019-07-01&#x27;, 19: &#x27;2019-08-01&#x27;, 20: &#x27;2019-09-01&#x27;, 21: &#x27;2019-10-01&#x27;, 22: &#x27;2019-11-01&#x27;, 23: &#x27;2019-12-01&#x27;};\\\\n                                    return labels[tick];\\\\n                                    \"},\"id\":\"1553\",\"type\":\"FuncTickFormatter\"},{\"attributes\":{},\"id\":\"1529\",\"type\":\"LinearScale\"},{\"attributes\":{},\"id\":\"1566\",\"type\":\"Selection\"},{\"attributes\":{\"axis_label\":\"vals\",\"formatter\":{\"id\":\"1562\"},\"ticker\":{\"id\":\"1536\"}},\"id\":\"1535\",\"type\":\"LinearAxis\"},{\"attributes\":{\"fill_alpha\":{\"value\":0.1},\"fill_color\":{\"value\":\"#1f77b4\"},\"line_alpha\":{\"value\":0.1},\"line_color\":{\"value\":\"#1f77b4\"},\"line_width\":{\"value\":2},\"top\":{\"field\":\"vals\"},\"width\":{\"value\":0.7},\"x\":{\"field\":\"__x__values\",\"transform\":{\"id\":\"1555\"}}},\"id\":\"1558\",\"type\":\"VBar\"},{\"attributes\":{},\"id\":\"1562\",\"type\":\"BasicTickFormatter\"},{\"attributes\":{\"data_source\":{\"id\":\"1519\"},\"glyph\":{\"id\":\"1557\"},\"hover_glyph\":null,\"muted_glyph\":null,\"nonselection_glyph\":{\"id\":\"1558\"},\"selection_glyph\":null,\"view\":{\"id\":\"1560\"}},\"id\":\"1559\",\"type\":\"GlyphRenderer\"},{\"attributes\":{},\"id\":\"1527\",\"type\":\"LinearScale\"},{\"attributes\":{\"overlay\":{\"id\":\"1545\"}},\"id\":\"1541\",\"type\":\"BoxZoomTool\"},{\"attributes\":{\"axis\":{\"id\":\"1535\"},\"dimension\":1,\"ticker\":null},\"id\":\"1538\",\"type\":\"Grid\"},{\"attributes\":{\"click_policy\":\"hide\",\"items\":[{\"id\":\"1569\"}]},\"id\":\"1568\",\"type\":\"Legend\"},{\"attributes\":{\"axis\":{\"id\":\"1531\"},\"ticker\":null},\"id\":\"1534\",\"type\":\"Grid\"},{\"attributes\":{\"data\":{\"__x__values\":[0,1,2,3,4,5,6,7,8,9,10,11,12,13,14,15,16,17,18,19,20,21,22,23],\"__x__values_original\":[\"2018-01-01\",\"2018-02-01\",\"2018-03-01\",\"2018-04-01\",\"2018-05-01\",\"2018-06-01\",\"2018-07-01\",\"2018-08-01\",\"2018-09-01\",\"2018-10-01\",\"2018-11-01\",\"2018-12-01\",\"2019-01-01\",\"2019-02-01\",\"2019-03-01\",\"2019-04-01\",\"2019-05-01\",\"2019-06-01\",\"2019-07-01\",\"2019-08-01\",\"2019-09-01\",\"2019-10-01\",\"2019-11-01\",\"2019-12-01\"],\"vals\":[0,0,0,0,0,0,0,0,4,2,5,5,14,5,2,8,5,9,5,1,0,0,0,0]},\"selected\":{\"id\":\"1566\"},\"selection_policy\":{\"id\":\"1565\"}},\"id\":\"1519\",\"type\":\"ColumnDataSource\"},{\"attributes\":{},\"id\":\"1565\",\"type\":\"UnionRenderers\"},{\"attributes\":{\"range\":{\"id\":\"1523\"}},\"id\":\"1555\",\"type\":\"Dodge\"},{\"attributes\":{\"bottom_units\":\"screen\",\"fill_alpha\":0.5,\"fill_color\":\"lightgrey\",\"left_units\":\"screen\",\"level\":\"overlay\",\"line_alpha\":1.0,\"line_color\":\"black\",\"line_dash\":[4,4],\"line_width\":2,\"right_units\":\"screen\",\"top_units\":\"screen\"},\"id\":\"1545\",\"type\":\"BoxAnnotation\"},{\"attributes\":{\"active_drag\":\"auto\",\"active_inspect\":\"auto\",\"active_multi\":null,\"active_scroll\":{\"id\":\"1540\"},\"active_tap\":\"auto\",\"tools\":[{\"id\":\"1539\"},{\"id\":\"1540\"},{\"id\":\"1541\"},{\"id\":\"1542\"},{\"id\":\"1543\"},{\"id\":\"1544\"},{\"id\":\"1570\"}]},\"id\":\"1546\",\"type\":\"Toolbar\"},{\"attributes\":{},\"id\":\"1523\",\"type\":\"DataRange1d\"},{\"attributes\":{\"text\":\"\"},\"id\":\"1521\",\"type\":\"Title\"},{\"attributes\":{},\"id\":\"1525\",\"type\":\"DataRange1d\"},{\"attributes\":{\"ticks\":[0,1,2,3,4,5,6,7,8,9,10,11,12,13,14,15,16,17,18,19,20,21,22,23]},\"id\":\"1572\",\"type\":\"FixedTicker\"},{\"attributes\":{},\"id\":\"1542\",\"type\":\"SaveTool\"},{\"attributes\":{},\"id\":\"1540\",\"type\":\"WheelZoomTool\"},{\"attributes\":{\"formatter\":{\"id\":\"1553\"},\"major_label_orientation\":1.5707963267948966,\"ticker\":{\"id\":\"1572\"}},\"id\":\"1531\",\"type\":\"LinearAxis\"},{\"attributes\":{\"source\":{\"id\":\"1519\"}},\"id\":\"1560\",\"type\":\"CDSView\"},{\"attributes\":{},\"id\":\"1536\",\"type\":\"BasicTicker\"},{\"attributes\":{\"label\":{\"value\":\" vals\"},\"renderers\":[{\"id\":\"1559\"}]},\"id\":\"1569\",\"type\":\"LegendItem\"},{\"attributes\":{\"fill_color\":{\"value\":\"#1f77b4\"},\"line_color\":{\"value\":\"#1f77b4\"},\"line_width\":{\"value\":2},\"top\":{\"field\":\"vals\"},\"width\":{\"value\":0.7},\"x\":{\"field\":\"__x__values\",\"transform\":{\"id\":\"1555\"}}},\"id\":\"1557\",\"type\":\"VBar\"},{\"attributes\":{},\"id\":\"1543\",\"type\":\"ResetTool\"},{\"attributes\":{},\"id\":\"1539\",\"type\":\"PanTool\"},{\"attributes\":{\"callback\":null,\"mode\":\"vline\",\"renderers\":[{\"id\":\"1559\"}],\"tooltips\":[[\"x\",\"@__x__values_original\"],[\"vals\",\"@{vals}\"]]},\"id\":\"1570\",\"type\":\"HoverTool\"}],\"root_ids\":[\"1520\"]},\"title\":\"Bokeh Application\",\"version\":\"2.2.1\"}}';\n",
       "                var render_items = [{\"docid\":\"8f28368c-c7b7-4eaf-8bef-61f7ab2a0386\",\"root_ids\":[\"1520\"],\"roots\":{\"1520\":\"4dabae19-4849-492f-a780-5db36d70a49c\"}}];\n",
       "                root.Bokeh.embed.embed_items(docs_json, render_items);\n",
       "              \n",
       "                }\n",
       "                if (root.Bokeh !== undefined) {\n",
       "                  embed_document(root);\n",
       "                } else {\n",
       "                  var attempts = 0;\n",
       "                  var timer = setInterval(function(root) {\n",
       "                    if (root.Bokeh !== undefined) {\n",
       "                      clearInterval(timer);\n",
       "                      embed_document(root);\n",
       "                    } else {\n",
       "                      attempts++;\n",
       "                      if (attempts > 100) {\n",
       "                        clearInterval(timer);\n",
       "                        console.log(\"Bokeh: ERROR: Unable to run BokehJS code because BokehJS library is missing\");\n",
       "                      }\n",
       "                    }\n",
       "                  }, 10, root)\n",
       "                }\n",
       "              })(window);\n",
       "            });\n",
       "          };\n",
       "          if (document.readyState != \"loading\") fn();\n",
       "          else document.addEventListener(\"DOMContentLoaded\", fn);\n",
       "        })();\n",
       "</script>"
      ],
      "text/plain": [
       "<IPython.core.display.HTML object>"
      ]
     },
     "execution_count": 137,
     "metadata": {},
     "output_type": "execute_result"
    }
   ],
   "source": [
    "from IPython.display import HTML\n",
    "HTML(w)"
   ]
  },
  {
   "cell_type": "code",
   "execution_count": 138,
   "metadata": {},
   "outputs": [
    {
     "data": {
      "text/html": [
       "\n",
       "    <div class=\"bk-root\">\n",
       "        <a href=\"https://bokeh.org\" target=\"_blank\" class=\"bk-logo bk-logo-small bk-logo-notebook\"></a>\n",
       "        <span id=\"1646\">Loading BokehJS ...</span>\n",
       "    </div>"
      ]
     },
     "metadata": {},
     "output_type": "display_data"
    },
    {
     "data": {
      "application/javascript": [
       "\n",
       "(function(root) {\n",
       "  function now() {\n",
       "    return new Date();\n",
       "  }\n",
       "\n",
       "  var force = true;\n",
       "\n",
       "  if (typeof root._bokeh_onload_callbacks === \"undefined\" || force === true) {\n",
       "    root._bokeh_onload_callbacks = [];\n",
       "    root._bokeh_is_loading = undefined;\n",
       "  }\n",
       "\n",
       "  var JS_MIME_TYPE = 'application/javascript';\n",
       "  var HTML_MIME_TYPE = 'text/html';\n",
       "  var EXEC_MIME_TYPE = 'application/vnd.bokehjs_exec.v0+json';\n",
       "  var CLASS_NAME = 'output_bokeh rendered_html';\n",
       "\n",
       "  /**\n",
       "   * Render data to the DOM node\n",
       "   */\n",
       "  function render(props, node) {\n",
       "    var script = document.createElement(\"script\");\n",
       "    node.appendChild(script);\n",
       "  }\n",
       "\n",
       "  /**\n",
       "   * Handle when an output is cleared or removed\n",
       "   */\n",
       "  function handleClearOutput(event, handle) {\n",
       "    var cell = handle.cell;\n",
       "\n",
       "    var id = cell.output_area._bokeh_element_id;\n",
       "    var server_id = cell.output_area._bokeh_server_id;\n",
       "    // Clean up Bokeh references\n",
       "    if (id != null && id in Bokeh.index) {\n",
       "      Bokeh.index[id].model.document.clear();\n",
       "      delete Bokeh.index[id];\n",
       "    }\n",
       "\n",
       "    if (server_id !== undefined) {\n",
       "      // Clean up Bokeh references\n",
       "      var cmd = \"from bokeh.io.state import curstate; print(curstate().uuid_to_server['\" + server_id + \"'].get_sessions()[0].document.roots[0]._id)\";\n",
       "      cell.notebook.kernel.execute(cmd, {\n",
       "        iopub: {\n",
       "          output: function(msg) {\n",
       "            var id = msg.content.text.trim();\n",
       "            if (id in Bokeh.index) {\n",
       "              Bokeh.index[id].model.document.clear();\n",
       "              delete Bokeh.index[id];\n",
       "            }\n",
       "          }\n",
       "        }\n",
       "      });\n",
       "      // Destroy server and session\n",
       "      var cmd = \"import bokeh.io.notebook as ion; ion.destroy_server('\" + server_id + \"')\";\n",
       "      cell.notebook.kernel.execute(cmd);\n",
       "    }\n",
       "  }\n",
       "\n",
       "  /**\n",
       "   * Handle when a new output is added\n",
       "   */\n",
       "  function handleAddOutput(event, handle) {\n",
       "    var output_area = handle.output_area;\n",
       "    var output = handle.output;\n",
       "\n",
       "    // limit handleAddOutput to display_data with EXEC_MIME_TYPE content only\n",
       "    if ((output.output_type != \"display_data\") || (!output.data.hasOwnProperty(EXEC_MIME_TYPE))) {\n",
       "      return\n",
       "    }\n",
       "\n",
       "    var toinsert = output_area.element.find(\".\" + CLASS_NAME.split(' ')[0]);\n",
       "\n",
       "    if (output.metadata[EXEC_MIME_TYPE][\"id\"] !== undefined) {\n",
       "      toinsert[toinsert.length - 1].firstChild.textContent = output.data[JS_MIME_TYPE];\n",
       "      // store reference to embed id on output_area\n",
       "      output_area._bokeh_element_id = output.metadata[EXEC_MIME_TYPE][\"id\"];\n",
       "    }\n",
       "    if (output.metadata[EXEC_MIME_TYPE][\"server_id\"] !== undefined) {\n",
       "      var bk_div = document.createElement(\"div\");\n",
       "      bk_div.innerHTML = output.data[HTML_MIME_TYPE];\n",
       "      var script_attrs = bk_div.children[0].attributes;\n",
       "      for (var i = 0; i < script_attrs.length; i++) {\n",
       "        toinsert[toinsert.length - 1].firstChild.setAttribute(script_attrs[i].name, script_attrs[i].value);\n",
       "        toinsert[toinsert.length - 1].firstChild.textContent = bk_div.children[0].textContent\n",
       "      }\n",
       "      // store reference to server id on output_area\n",
       "      output_area._bokeh_server_id = output.metadata[EXEC_MIME_TYPE][\"server_id\"];\n",
       "    }\n",
       "  }\n",
       "\n",
       "  function register_renderer(events, OutputArea) {\n",
       "\n",
       "    function append_mime(data, metadata, element) {\n",
       "      // create a DOM node to render to\n",
       "      var toinsert = this.create_output_subarea(\n",
       "        metadata,\n",
       "        CLASS_NAME,\n",
       "        EXEC_MIME_TYPE\n",
       "      );\n",
       "      this.keyboard_manager.register_events(toinsert);\n",
       "      // Render to node\n",
       "      var props = {data: data, metadata: metadata[EXEC_MIME_TYPE]};\n",
       "      render(props, toinsert[toinsert.length - 1]);\n",
       "      element.append(toinsert);\n",
       "      return toinsert\n",
       "    }\n",
       "\n",
       "    /* Handle when an output is cleared or removed */\n",
       "    events.on('clear_output.CodeCell', handleClearOutput);\n",
       "    events.on('delete.Cell', handleClearOutput);\n",
       "\n",
       "    /* Handle when a new output is added */\n",
       "    events.on('output_added.OutputArea', handleAddOutput);\n",
       "\n",
       "    /**\n",
       "     * Register the mime type and append_mime function with output_area\n",
       "     */\n",
       "    OutputArea.prototype.register_mime_type(EXEC_MIME_TYPE, append_mime, {\n",
       "      /* Is output safe? */\n",
       "      safe: true,\n",
       "      /* Index of renderer in `output_area.display_order` */\n",
       "      index: 0\n",
       "    });\n",
       "  }\n",
       "\n",
       "  // register the mime type if in Jupyter Notebook environment and previously unregistered\n",
       "  if (root.Jupyter !== undefined) {\n",
       "    var events = require('base/js/events');\n",
       "    var OutputArea = require('notebook/js/outputarea').OutputArea;\n",
       "\n",
       "    if (OutputArea.prototype.mime_types().indexOf(EXEC_MIME_TYPE) == -1) {\n",
       "      register_renderer(events, OutputArea);\n",
       "    }\n",
       "  }\n",
       "\n",
       "  \n",
       "  if (typeof (root._bokeh_timeout) === \"undefined\" || force === true) {\n",
       "    root._bokeh_timeout = Date.now() + 5000;\n",
       "    root._bokeh_failed_load = false;\n",
       "  }\n",
       "\n",
       "  var NB_LOAD_WARNING = {'data': {'text/html':\n",
       "     \"<div style='background-color: #fdd'>\\n\"+\n",
       "     \"<p>\\n\"+\n",
       "     \"BokehJS does not appear to have successfully loaded. If loading BokehJS from CDN, this \\n\"+\n",
       "     \"may be due to a slow or bad network connection. Possible fixes:\\n\"+\n",
       "     \"</p>\\n\"+\n",
       "     \"<ul>\\n\"+\n",
       "     \"<li>re-rerun `output_notebook()` to attempt to load from CDN again, or</li>\\n\"+\n",
       "     \"<li>use INLINE resources instead, as so:</li>\\n\"+\n",
       "     \"</ul>\\n\"+\n",
       "     \"<code>\\n\"+\n",
       "     \"from bokeh.resources import INLINE\\n\"+\n",
       "     \"output_notebook(resources=INLINE)\\n\"+\n",
       "     \"</code>\\n\"+\n",
       "     \"</div>\"}};\n",
       "\n",
       "  function display_loaded() {\n",
       "    var el = document.getElementById(\"1646\");\n",
       "    if (el != null) {\n",
       "      el.textContent = \"BokehJS is loading...\";\n",
       "    }\n",
       "    if (root.Bokeh !== undefined) {\n",
       "      if (el != null) {\n",
       "        el.textContent = \"BokehJS \" + root.Bokeh.version + \" successfully loaded.\";\n",
       "      }\n",
       "    } else if (Date.now() < root._bokeh_timeout) {\n",
       "      setTimeout(display_loaded, 100)\n",
       "    }\n",
       "  }\n",
       "\n",
       "\n",
       "  function run_callbacks() {\n",
       "    try {\n",
       "      root._bokeh_onload_callbacks.forEach(function(callback) {\n",
       "        if (callback != null)\n",
       "          callback();\n",
       "      });\n",
       "    } finally {\n",
       "      delete root._bokeh_onload_callbacks\n",
       "    }\n",
       "    console.debug(\"Bokeh: all callbacks have finished\");\n",
       "  }\n",
       "\n",
       "  function load_libs(css_urls, js_urls, callback) {\n",
       "    if (css_urls == null) css_urls = [];\n",
       "    if (js_urls == null) js_urls = [];\n",
       "\n",
       "    root._bokeh_onload_callbacks.push(callback);\n",
       "    if (root._bokeh_is_loading > 0) {\n",
       "      console.debug(\"Bokeh: BokehJS is being loaded, scheduling callback at\", now());\n",
       "      return null;\n",
       "    }\n",
       "    if (js_urls == null || js_urls.length === 0) {\n",
       "      run_callbacks();\n",
       "      return null;\n",
       "    }\n",
       "    console.debug(\"Bokeh: BokehJS not loaded, scheduling load and callback at\", now());\n",
       "    root._bokeh_is_loading = css_urls.length + js_urls.length;\n",
       "\n",
       "    function on_load() {\n",
       "      root._bokeh_is_loading--;\n",
       "      if (root._bokeh_is_loading === 0) {\n",
       "        console.debug(\"Bokeh: all BokehJS libraries/stylesheets loaded\");\n",
       "        run_callbacks()\n",
       "      }\n",
       "    }\n",
       "\n",
       "    function on_error() {\n",
       "      console.error(\"failed to load \" + url);\n",
       "    }\n",
       "\n",
       "    for (var i = 0; i < css_urls.length; i++) {\n",
       "      var url = css_urls[i];\n",
       "      const element = document.createElement(\"link\");\n",
       "      element.onload = on_load;\n",
       "      element.onerror = on_error;\n",
       "      element.rel = \"stylesheet\";\n",
       "      element.type = \"text/css\";\n",
       "      element.href = url;\n",
       "      console.debug(\"Bokeh: injecting link tag for BokehJS stylesheet: \", url);\n",
       "      document.body.appendChild(element);\n",
       "    }\n",
       "\n",
       "    const hashes = {\"https://cdn.bokeh.org/bokeh/release/bokeh-2.2.1.min.js\": \"qkRvDQVAIfzsJo40iRBbxt6sttt0hv4lh74DG7OK4MCHv4C5oohXYoHUM5W11uqS\", \"https://cdn.bokeh.org/bokeh/release/bokeh-widgets-2.2.1.min.js\": \"Sb7Mr06a9TNlet/GEBeKaf5xH3eb6AlCzwjtU82wNPyDrnfoiVl26qnvlKjmcAd+\", \"https://cdn.bokeh.org/bokeh/release/bokeh-tables-2.2.1.min.js\": \"HaJ15vgfmcfRtB4c4YBOI4f1MUujukqInOWVqZJZZGK7Q+ivud0OKGSTn/Vm2iso\"};\n",
       "\n",
       "    for (var i = 0; i < js_urls.length; i++) {\n",
       "      var url = js_urls[i];\n",
       "      var element = document.createElement('script');\n",
       "      element.onload = on_load;\n",
       "      element.onerror = on_error;\n",
       "      element.async = false;\n",
       "      element.src = url;\n",
       "      if (url in hashes) {\n",
       "        element.crossOrigin = \"anonymous\";\n",
       "        element.integrity = \"sha384-\" + hashes[url];\n",
       "      }\n",
       "      console.debug(\"Bokeh: injecting script tag for BokehJS library: \", url);\n",
       "      document.head.appendChild(element);\n",
       "    }\n",
       "  };\n",
       "\n",
       "  function inject_raw_css(css) {\n",
       "    const element = document.createElement(\"style\");\n",
       "    element.appendChild(document.createTextNode(css));\n",
       "    document.body.appendChild(element);\n",
       "  }\n",
       "\n",
       "  \n",
       "  var js_urls = [\"https://cdn.bokeh.org/bokeh/release/bokeh-2.2.1.min.js\", \"https://cdn.bokeh.org/bokeh/release/bokeh-widgets-2.2.1.min.js\", \"https://cdn.bokeh.org/bokeh/release/bokeh-tables-2.2.1.min.js\"];\n",
       "  var css_urls = [];\n",
       "  \n",
       "\n",
       "  var inline_js = [\n",
       "    function(Bokeh) {\n",
       "      Bokeh.set_log_level(\"info\");\n",
       "    },\n",
       "    function(Bokeh) {\n",
       "    \n",
       "    \n",
       "    }\n",
       "  ];\n",
       "\n",
       "  function run_inline_js() {\n",
       "    \n",
       "    if (root.Bokeh !== undefined || force === true) {\n",
       "      \n",
       "    for (var i = 0; i < inline_js.length; i++) {\n",
       "      inline_js[i].call(root, root.Bokeh);\n",
       "    }\n",
       "    if (force === true) {\n",
       "        display_loaded();\n",
       "      }} else if (Date.now() < root._bokeh_timeout) {\n",
       "      setTimeout(run_inline_js, 100);\n",
       "    } else if (!root._bokeh_failed_load) {\n",
       "      console.log(\"Bokeh: BokehJS failed to load within specified timeout.\");\n",
       "      root._bokeh_failed_load = true;\n",
       "    } else if (force !== true) {\n",
       "      var cell = $(document.getElementById(\"1646\")).parents('.cell').data().cell;\n",
       "      cell.output_area.append_execute_result(NB_LOAD_WARNING)\n",
       "    }\n",
       "\n",
       "  }\n",
       "\n",
       "  if (root._bokeh_is_loading === 0) {\n",
       "    console.debug(\"Bokeh: BokehJS loaded, going straight to plotting\");\n",
       "    run_inline_js();\n",
       "  } else {\n",
       "    load_libs(css_urls, js_urls, function() {\n",
       "      console.debug(\"Bokeh: BokehJS plotting callback run at\", now());\n",
       "      run_inline_js();\n",
       "    });\n",
       "  }\n",
       "}(window));"
      ],
      "application/vnd.bokehjs_load.v0+json": "\n(function(root) {\n  function now() {\n    return new Date();\n  }\n\n  var force = true;\n\n  if (typeof root._bokeh_onload_callbacks === \"undefined\" || force === true) {\n    root._bokeh_onload_callbacks = [];\n    root._bokeh_is_loading = undefined;\n  }\n\n  \n\n  \n  if (typeof (root._bokeh_timeout) === \"undefined\" || force === true) {\n    root._bokeh_timeout = Date.now() + 5000;\n    root._bokeh_failed_load = false;\n  }\n\n  var NB_LOAD_WARNING = {'data': {'text/html':\n     \"<div style='background-color: #fdd'>\\n\"+\n     \"<p>\\n\"+\n     \"BokehJS does not appear to have successfully loaded. If loading BokehJS from CDN, this \\n\"+\n     \"may be due to a slow or bad network connection. Possible fixes:\\n\"+\n     \"</p>\\n\"+\n     \"<ul>\\n\"+\n     \"<li>re-rerun `output_notebook()` to attempt to load from CDN again, or</li>\\n\"+\n     \"<li>use INLINE resources instead, as so:</li>\\n\"+\n     \"</ul>\\n\"+\n     \"<code>\\n\"+\n     \"from bokeh.resources import INLINE\\n\"+\n     \"output_notebook(resources=INLINE)\\n\"+\n     \"</code>\\n\"+\n     \"</div>\"}};\n\n  function display_loaded() {\n    var el = document.getElementById(\"1646\");\n    if (el != null) {\n      el.textContent = \"BokehJS is loading...\";\n    }\n    if (root.Bokeh !== undefined) {\n      if (el != null) {\n        el.textContent = \"BokehJS \" + root.Bokeh.version + \" successfully loaded.\";\n      }\n    } else if (Date.now() < root._bokeh_timeout) {\n      setTimeout(display_loaded, 100)\n    }\n  }\n\n\n  function run_callbacks() {\n    try {\n      root._bokeh_onload_callbacks.forEach(function(callback) {\n        if (callback != null)\n          callback();\n      });\n    } finally {\n      delete root._bokeh_onload_callbacks\n    }\n    console.debug(\"Bokeh: all callbacks have finished\");\n  }\n\n  function load_libs(css_urls, js_urls, callback) {\n    if (css_urls == null) css_urls = [];\n    if (js_urls == null) js_urls = [];\n\n    root._bokeh_onload_callbacks.push(callback);\n    if (root._bokeh_is_loading > 0) {\n      console.debug(\"Bokeh: BokehJS is being loaded, scheduling callback at\", now());\n      return null;\n    }\n    if (js_urls == null || js_urls.length === 0) {\n      run_callbacks();\n      return null;\n    }\n    console.debug(\"Bokeh: BokehJS not loaded, scheduling load and callback at\", now());\n    root._bokeh_is_loading = css_urls.length + js_urls.length;\n\n    function on_load() {\n      root._bokeh_is_loading--;\n      if (root._bokeh_is_loading === 0) {\n        console.debug(\"Bokeh: all BokehJS libraries/stylesheets loaded\");\n        run_callbacks()\n      }\n    }\n\n    function on_error() {\n      console.error(\"failed to load \" + url);\n    }\n\n    for (var i = 0; i < css_urls.length; i++) {\n      var url = css_urls[i];\n      const element = document.createElement(\"link\");\n      element.onload = on_load;\n      element.onerror = on_error;\n      element.rel = \"stylesheet\";\n      element.type = \"text/css\";\n      element.href = url;\n      console.debug(\"Bokeh: injecting link tag for BokehJS stylesheet: \", url);\n      document.body.appendChild(element);\n    }\n\n    const hashes = {\"https://cdn.bokeh.org/bokeh/release/bokeh-2.2.1.min.js\": \"qkRvDQVAIfzsJo40iRBbxt6sttt0hv4lh74DG7OK4MCHv4C5oohXYoHUM5W11uqS\", \"https://cdn.bokeh.org/bokeh/release/bokeh-widgets-2.2.1.min.js\": \"Sb7Mr06a9TNlet/GEBeKaf5xH3eb6AlCzwjtU82wNPyDrnfoiVl26qnvlKjmcAd+\", \"https://cdn.bokeh.org/bokeh/release/bokeh-tables-2.2.1.min.js\": \"HaJ15vgfmcfRtB4c4YBOI4f1MUujukqInOWVqZJZZGK7Q+ivud0OKGSTn/Vm2iso\"};\n\n    for (var i = 0; i < js_urls.length; i++) {\n      var url = js_urls[i];\n      var element = document.createElement('script');\n      element.onload = on_load;\n      element.onerror = on_error;\n      element.async = false;\n      element.src = url;\n      if (url in hashes) {\n        element.crossOrigin = \"anonymous\";\n        element.integrity = \"sha384-\" + hashes[url];\n      }\n      console.debug(\"Bokeh: injecting script tag for BokehJS library: \", url);\n      document.head.appendChild(element);\n    }\n  };\n\n  function inject_raw_css(css) {\n    const element = document.createElement(\"style\");\n    element.appendChild(document.createTextNode(css));\n    document.body.appendChild(element);\n  }\n\n  \n  var js_urls = [\"https://cdn.bokeh.org/bokeh/release/bokeh-2.2.1.min.js\", \"https://cdn.bokeh.org/bokeh/release/bokeh-widgets-2.2.1.min.js\", \"https://cdn.bokeh.org/bokeh/release/bokeh-tables-2.2.1.min.js\"];\n  var css_urls = [];\n  \n\n  var inline_js = [\n    function(Bokeh) {\n      Bokeh.set_log_level(\"info\");\n    },\n    function(Bokeh) {\n    \n    \n    }\n  ];\n\n  function run_inline_js() {\n    \n    if (root.Bokeh !== undefined || force === true) {\n      \n    for (var i = 0; i < inline_js.length; i++) {\n      inline_js[i].call(root, root.Bokeh);\n    }\n    if (force === true) {\n        display_loaded();\n      }} else if (Date.now() < root._bokeh_timeout) {\n      setTimeout(run_inline_js, 100);\n    } else if (!root._bokeh_failed_load) {\n      console.log(\"Bokeh: BokehJS failed to load within specified timeout.\");\n      root._bokeh_failed_load = true;\n    } else if (force !== true) {\n      var cell = $(document.getElementById(\"1646\")).parents('.cell').data().cell;\n      cell.output_area.append_execute_result(NB_LOAD_WARNING)\n    }\n\n  }\n\n  if (root._bokeh_is_loading === 0) {\n    console.debug(\"Bokeh: BokehJS loaded, going straight to plotting\");\n    run_inline_js();\n  } else {\n    load_libs(css_urls, js_urls, function() {\n      console.debug(\"Bokeh: BokehJS plotting callback run at\", now());\n      run_inline_js();\n    });\n  }\n}(window));"
     },
     "metadata": {},
     "output_type": "display_data"
    }
   ],
   "source": [
    "pd.plotting.output_notebook()"
   ]
  },
  {
   "cell_type": "code",
   "execution_count": 139,
   "metadata": {},
   "outputs": [
    {
     "data": {
      "text/plain": [
       "'2019-05-01'"
      ]
     },
     "execution_count": 139,
     "metadata": {},
     "output_type": "execute_result"
    }
   ],
   "source": [
    "str(listDates[2])"
   ]
  },
  {
   "cell_type": "code",
   "execution_count": 140,
   "metadata": {},
   "outputs": [
    {
     "data": {
      "text/html": [
       "<div>\n",
       "<style scoped>\n",
       "    .dataframe tbody tr th:only-of-type {\n",
       "        vertical-align: middle;\n",
       "    }\n",
       "\n",
       "    .dataframe tbody tr th {\n",
       "        vertical-align: top;\n",
       "    }\n",
       "\n",
       "    .dataframe thead th {\n",
       "        text-align: right;\n",
       "    }\n",
       "</style>\n",
       "<table border=\"1\" class=\"dataframe\">\n",
       "  <thead>\n",
       "    <tr style=\"text-align: right;\">\n",
       "      <th></th>\n",
       "      <th>vals</th>\n",
       "    </tr>\n",
       "  </thead>\n",
       "  <tbody>\n",
       "    <tr>\n",
       "      <th>2018-01-01</th>\n",
       "      <td>0</td>\n",
       "    </tr>\n",
       "    <tr>\n",
       "      <th>2018-02-01</th>\n",
       "      <td>0</td>\n",
       "    </tr>\n",
       "    <tr>\n",
       "      <th>2018-03-01</th>\n",
       "      <td>0</td>\n",
       "    </tr>\n",
       "    <tr>\n",
       "      <th>2018-04-01</th>\n",
       "      <td>0</td>\n",
       "    </tr>\n",
       "    <tr>\n",
       "      <th>2018-05-01</th>\n",
       "      <td>0</td>\n",
       "    </tr>\n",
       "    <tr>\n",
       "      <th>2018-06-01</th>\n",
       "      <td>0</td>\n",
       "    </tr>\n",
       "    <tr>\n",
       "      <th>2018-07-01</th>\n",
       "      <td>0</td>\n",
       "    </tr>\n",
       "    <tr>\n",
       "      <th>2018-08-01</th>\n",
       "      <td>0</td>\n",
       "    </tr>\n",
       "    <tr>\n",
       "      <th>2018-09-01</th>\n",
       "      <td>4</td>\n",
       "    </tr>\n",
       "    <tr>\n",
       "      <th>2018-10-01</th>\n",
       "      <td>2</td>\n",
       "    </tr>\n",
       "    <tr>\n",
       "      <th>2018-11-01</th>\n",
       "      <td>5</td>\n",
       "    </tr>\n",
       "    <tr>\n",
       "      <th>2018-12-01</th>\n",
       "      <td>5</td>\n",
       "    </tr>\n",
       "    <tr>\n",
       "      <th>2019-01-01</th>\n",
       "      <td>14</td>\n",
       "    </tr>\n",
       "    <tr>\n",
       "      <th>2019-02-01</th>\n",
       "      <td>5</td>\n",
       "    </tr>\n",
       "    <tr>\n",
       "      <th>2019-03-01</th>\n",
       "      <td>2</td>\n",
       "    </tr>\n",
       "    <tr>\n",
       "      <th>2019-04-01</th>\n",
       "      <td>8</td>\n",
       "    </tr>\n",
       "    <tr>\n",
       "      <th>2019-05-01</th>\n",
       "      <td>5</td>\n",
       "    </tr>\n",
       "    <tr>\n",
       "      <th>2019-06-01</th>\n",
       "      <td>9</td>\n",
       "    </tr>\n",
       "    <tr>\n",
       "      <th>2019-07-01</th>\n",
       "      <td>5</td>\n",
       "    </tr>\n",
       "    <tr>\n",
       "      <th>2019-08-01</th>\n",
       "      <td>1</td>\n",
       "    </tr>\n",
       "    <tr>\n",
       "      <th>2019-09-01</th>\n",
       "      <td>0</td>\n",
       "    </tr>\n",
       "    <tr>\n",
       "      <th>2019-10-01</th>\n",
       "      <td>0</td>\n",
       "    </tr>\n",
       "    <tr>\n",
       "      <th>2019-11-01</th>\n",
       "      <td>0</td>\n",
       "    </tr>\n",
       "    <tr>\n",
       "      <th>2019-12-01</th>\n",
       "      <td>0</td>\n",
       "    </tr>\n",
       "  </tbody>\n",
       "</table>\n",
       "</div>"
      ],
      "text/plain": [
       "            vals\n",
       "2018-01-01     0\n",
       "2018-02-01     0\n",
       "2018-03-01     0\n",
       "2018-04-01     0\n",
       "2018-05-01     0\n",
       "2018-06-01     0\n",
       "2018-07-01     0\n",
       "2018-08-01     0\n",
       "2018-09-01     4\n",
       "2018-10-01     2\n",
       "2018-11-01     5\n",
       "2018-12-01     5\n",
       "2019-01-01    14\n",
       "2019-02-01     5\n",
       "2019-03-01     2\n",
       "2019-04-01     8\n",
       "2019-05-01     5\n",
       "2019-06-01     9\n",
       "2019-07-01     5\n",
       "2019-08-01     1\n",
       "2019-09-01     0\n",
       "2019-10-01     0\n",
       "2019-11-01     0\n",
       "2019-12-01     0"
      ]
     },
     "execution_count": 140,
     "metadata": {},
     "output_type": "execute_result"
    }
   ],
   "source": [
    "tab"
   ]
  },
  {
   "cell_type": "code",
   "execution_count": 142,
   "metadata": {},
   "outputs": [],
   "source": [
    "ListeAuthors.sort()"
   ]
  },
  {
   "cell_type": "code",
   "execution_count": 143,
   "metadata": {},
   "outputs": [
    {
     "data": {
      "text/plain": [
       "[('ABDEDDAIM', 'ABDEDDAIM'),\n",
       " ('AIT SAADI', 'AIT SAADI'),\n",
       " ('ALGRE', 'ALGRE'),\n",
       " ('ALVES', 'ALVES'),\n",
       " ('ANDERSON', 'ANDERSON'),\n",
       " ('BASSET', 'BASSET'),\n",
       " ('BAUDOIN', 'BAUDOIN'),\n",
       " ('BEHIRI', 'BEHIRI'),\n",
       " ('BERCHER', 'BERCHER'),\n",
       " ('BERLAND', 'BERLAND'),\n",
       " ('BERRAF', 'BERRAF'),\n",
       " ('BERTRAND', 'BERTRAND'),\n",
       " ('BLANCHARD', 'BLANCHARD'),\n",
       " ('BOUROUINA', 'BOUROUINA'),\n",
       " ('BUREAU', 'BUREAU'),\n",
       " ('BUZER', 'BUZER'),\n",
       " ('Bill', 'Bill'),\n",
       " ('CASTRO GONCALVES', 'CASTRO GONCALVES'),\n",
       " ('CELA', 'CELA'),\n",
       " ('CHIERCHIA', 'CHIERCHIA'),\n",
       " ('CHU', 'CHU'),\n",
       " ('COUPRIE', 'COUPRIE'),\n",
       " ('COURIVAUD', 'COURIVAUD'),\n",
       " ('COUSTY', 'COUSTY'),\n",
       " ('DE CAMBRY', 'DE CAMBRY'),\n",
       " ('DEBBASCH', 'DEBBASCH'),\n",
       " ('DEGNY', 'DEGNY'),\n",
       " ('DELABIE', 'DELABIE'),\n",
       " ('DELEMARLE', 'DELEMARLE'),\n",
       " ('DHERMIES', 'DHERMIES'),\n",
       " ('DOKLADALOVA', 'DOKLADALOVA'),\n",
       " ('DOUAY', 'DOUAY'),\n",
       " ('DRAIN', 'DRAIN'),\n",
       " ('EVE', 'EVE'),\n",
       " ('EXERTIER', 'EXERTIER'),\n",
       " ('FAKRI', 'FAKRI'),\n",
       " ('FRANCAIS', 'FRANCAIS'),\n",
       " ('GARDES', 'GARDES'),\n",
       " ('GEORGE', 'GEORGE'),\n",
       " ('GEORGES', 'GEORGES'),\n",
       " ('GERVAIS DE LAFOND', 'GERVAIS DE LAFOND'),\n",
       " ('GRANDPIERRE', 'GRANDPIERRE'),\n",
       " ('GUO', 'GUO'),\n",
       " ('HABIB', 'HABIB'),\n",
       " ('HAMOUCHE', 'HAMOUCHE'),\n",
       " ('HENDEL', 'HENDEL'),\n",
       " ('HILAIRE', 'HILAIRE'),\n",
       " ('Joe', 'Joe'),\n",
       " ('KACHOURI', 'KACHOURI'),\n",
       " ('KAHANE', 'KAHANE'),\n",
       " ('KOCIK', 'KOCIK'),\n",
       " ('LAHILLE', 'LAHILLE'),\n",
       " ('LATORRE', 'LATORRE'),\n",
       " ('LATORRE', 'LATORRE'),\n",
       " ('LEFEBVRE', 'LEFEBVRE'),\n",
       " ('LISSORGUES', 'LISSORGUES'),\n",
       " ('MADAOUI', 'MADAOUI'),\n",
       " ('MAINWARING', 'MAINWARING'),\n",
       " ('MASSON', 'MASSON'),\n",
       " ('MIMOUN', 'MIMOUN'),\n",
       " ('MUSTAFA', 'MUSTAFA'),\n",
       " ('Myriam', 'Myriam'),\n",
       " ('NADAL', 'NADAL'),\n",
       " ('NAJMAN', 'NAJMAN'),\n",
       " ('NATOWICZ', 'NATOWICZ'),\n",
       " ('NEFZAOUI', 'NEFZAOUI'),\n",
       " ('NEGREL', 'NEGREL'),\n",
       " ('NOURY', 'NOURY'),\n",
       " ('PERRET', 'PERRET'),\n",
       " ('PERROTON', 'PERROTON'),\n",
       " ('POINTET', 'POINTET'),\n",
       " ('POLLEUX', 'POLLEUX'),\n",
       " ('POULICHET', 'POULICHET'),\n",
       " ('REAMA', 'REAMA'),\n",
       " ('REDIS', 'REDIS'),\n",
       " ('REILLE', 'REILLE'),\n",
       " ('ROUDIER', 'ROUDIER'),\n",
       " ('ROY', 'ROY'),\n",
       " ('SAHLI', 'SAHLI'),\n",
       " ('SCHOEN', 'SCHOEN'),\n",
       " ('SERRANO', 'SERRANO'),\n",
       " ('SEVELY', 'SEVELY'),\n",
       " ('TALBOT', 'TALBOT'),\n",
       " ('TODMAN', 'TODMAN'),\n",
       " ('UGON', 'UGON'),\n",
       " ('VALBIN', 'VALBIN'),\n",
       " ('VENARD', 'VENARD'),\n",
       " ('VILLARD', 'VILLARD'),\n",
       " ('VILLEGAS', 'VILLEGAS'),\n",
       " ('WANG', 'WANG'),\n",
       " ('WIRTH', 'WIRTH'),\n",
       " ('ZAMPERA', 'ZAMPERA'),\n",
       " ('ZANGAR', 'ZANGAR'),\n",
       " ('ZITOUNE', 'ZITOUNE'),\n",
       " ('kelly', 'kelly')]"
      ]
     },
     "execution_count": 143,
     "metadata": {},
     "output_type": "execute_result"
    }
   ],
   "source": [
    "ListeAuthors"
   ]
  }
 ],
 "metadata": {
  "hide_input": false,
  "kernelspec": {
   "display_name": "Python 3.8",
   "language": "python",
   "name": "py38"
  },
  "language_info": {
   "codemirror_mode": {
    "name": "ipython",
    "version": 3
   },
   "file_extension": ".py",
   "mimetype": "text/x-python",
   "name": "python",
   "nbconvert_exporter": "python",
   "pygments_lexer": "ipython3",
   "version": "3.8.6"
  },
  "latex_envs": {
   "LaTeX_envs_menu_present": true,
   "autoclose": false,
   "autocomplete": true,
   "bibliofile": "latex_bib.bib",
   "cite_by": "apalike",
   "current_citInitial": 1,
   "eqLabelWithNumbers": true,
   "eqNumInitial": 1,
   "hotkeys": {
    "equation": "ctrl-e"
   },
   "labels_anchors": false,
   "latex_user_defs": false,
   "report_style_numbering": false,
   "user_envs_cfg": false
  },
  "nbTranslate": {
   "displayLangs": [
    "*"
   ],
   "hotkey": "alt-t",
   "langInMainMenu": true,
   "sourceLang": "en",
   "targetLang": "fr",
   "useGoogleTranslate": true
  },
  "toc": {
   "base_numbering": "1",
   "lock_sidebar": true,
   "nav_menu": {},
   "number_sections": true,
   "sideBar": true,
   "skip_h1_title": false,
   "title_cell": "Table of Contents",
   "title_sidebar": "Contents",
   "toc_cell": false,
   "toc_position": {},
   "toc_section_display": true,
   "toc_window_display": true
  },
  "varInspector": {
   "cols": {
    "lenName": 16,
    "lenType": 16,
    "lenVar": 40
   },
   "kernels_config": {
    "python": {
     "delete_cmd_postfix": "",
     "delete_cmd_prefix": "del ",
     "library": "var_list.py",
     "varRefreshCmd": "print(var_dic_list())"
    },
    "r": {
     "delete_cmd_postfix": ") ",
     "delete_cmd_prefix": "rm(",
     "library": "var_list.r",
     "varRefreshCmd": "cat(var_dic_list()) "
    }
   },
   "position": {
    "height": "144.441px",
    "left": "1210.2px",
    "right": "20px",
    "top": "119.988px",
    "width": "349.976px"
   },
   "types_to_exclude": [
    "module",
    "function",
    "builtin_function_or_method",
    "instance",
    "_Feature"
   ],
   "window_display": false
  }
 },
 "nbformat": 4,
 "nbformat_minor": 4
}
