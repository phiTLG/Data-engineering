{
 "cells": [
  {
   "cell_type": "code",
   "execution_count": 6,
   "metadata": {},
   "outputs": [],
   "source": [
    "import scrapy"
   ]
  },
  {
   "cell_type": "code",
   "execution_count": 7,
   "metadata": {},
   "outputs": [
    {
     "name": "stdout",
     "output_type": "stream",
     "text": [
      "Created spider 'stackoverflow' using template 'basic' \n"
     ]
    }
   ],
   "source": [
    "!cd Spiders && scrapy genspider stackoverflow https://stackoverflow.com/questions?tab=Bounties"
   ]
  },
  {
   "cell_type": "code",
   "execution_count": 8,
   "metadata": {},
   "outputs": [
    {
     "name": "stdout",
     "output_type": "stream",
     "text": [
      "^C\n"
     ]
    }
   ],
   "source": [
    "!scrapy shell \"https://stackoverflow.com/questions?tab=Bounties\""
   ]
  },
  {
   "cell_type": "code",
   "execution_count": null,
   "metadata": {},
   "outputs": [],
   "source": [
    "In [1]: response.css('title')\n",
    "Out[1]: [<Selector xpath='descendant-or-self::title' data='<title>Bountied questions - Stack Ove...'>]"
   ]
  },
  {
   "cell_type": "code",
   "execution_count": null,
   "metadata": {},
   "outputs": [],
   "source": [
    "In [2]: response.css('h3')\n",
    "Out[2]:\n",
    "[<Selector xpath='descendant-or-self::h3' data='<h3>\\r\\n                <a href=\"https:...'>,\n",
    " <Selector xpath='descendant-or-self::h3' data='<h3>\\r\\nyour communities            </h3>'>,\n",
    " <Selector xpath='descendant-or-self::h3' data='<h3><a href=\"https://stackexchange.co...'>,\n",
    " <Selector xpath='descendant-or-self::h3' data='<h3><a href=\"/questions/64805919/cdkd...'>,\n",
    " <Selector xpath='descendant-or-self::h3' data='<h3><a href=\"/questions/65039841/kotl...'>,\n",
    " <Selector xpath='descendant-or-self::h3' data='<h3><a href=\"/questions/65036158/how-...'>,\n",
    " <Selector xpath='descendant-or-self::h3' data='<h3><a href=\"/questions/65029735/unit...'>,\n",
    " <Selector xpath='descendant-or-self::h3' data='<h3><a href=\"/questions/65042654/how-...'>,"
   ]
  },
  {
   "cell_type": "code",
   "execution_count": null,
   "metadata": {},
   "outputs": [],
   "source": [
    "In [5]: response.css('h3').extract()[0:10]\n",
    "Out[5]:\n",
    "['<h3>\\r\\n                <a href=\"https://stackoverflow.com\">current community</a>\\r\\n            </h3>',\n",
    " '<h3>\\r\\nyour communities            </h3>',\n",
    " '<h3><a href=\"https://stackexchange.com/sites\">more stack exchange communities</a>\\r\\n            </h3>',\n",
    " '<h3><a href=\"/questions/64805919/cdkdragdrop-in-cdkportal-is-not-responding\" class=\"question-hyperlink\">CdkDragDrop in CdkPortal is not responding</a></h3>',\n",
    " '<h3><a href=\"/questions/65039841/kotlin-native-compile-jar-and-framework\" class=\"question-hyperlink\">Kotlin Native compile jar and framework</a></h3>',\n",
    " '<h3><a href=\"/questions/65036158/how-to-simplify-and-expand-bigquery-subfiltering-event-params-on-firebase-databa\" class=\"question-hyperlink\">How to simplify and expand BigQuery subfiltering event_params on firebase database</a></h3>',\n",
    " '<h3><a href=\"/questions/65029735/unity-using-aws-gamelift-editor-fine-but-notsupportedexception-in-build-to-ios\" class=\"question-hyperlink\">Unity using AWS Gamelift. Editor fine, but NotSupportedException in build to IOS</a></h3>',\n",
    " '<h3><a href=\"/questions/65042654/how-to-add-categorical-legend-to-python-folium-map\" class=\"question-hyperlink\">How to add categorical legend to Python Folium map?</a></h3>',\n",
    " '<h3><a href=\"/questions/65004800/how-to-invoke-pycharm-debugger-from-code\" class=\"question-hyperlink\">How to invoke Pycharm debugger from code?</a></h3>',\n",
    " '<h3><a href=\"/questions/64783963/tensorflow-probability-assertionerror-sign-class\" class=\"question-hyperlink\">Tensorflow probability: AssertionError: (\\'Sign\\', \\'_class\\')</a></h3>']"
   ]
  },
  {
   "cell_type": "code",
   "execution_count": null,
   "metadata": {},
   "outputs": [],
   "source": [
    "response.urljoin(response.css('h3').extract()[8])\n",
    "Out[6]: 'https://stackoverflow.com/<h3><a href=\"/questions/65004800/how-to-invoke-pycharm-debugger-from-code\" class=\"question-hyperlink\">How to invoke Pycharm debugger from code?</a></h3>'"
   ]
  },
  {
   "cell_type": "code",
   "execution_count": null,
   "metadata": {},
   "outputs": [],
   "source": []
  }
 ],
 "metadata": {
  "kernelspec": {
   "display_name": "Python 3",
   "language": "python",
   "name": "python3"
  },
  "language_info": {
   "codemirror_mode": {
    "name": "ipython",
    "version": 3
   },
   "file_extension": ".py",
   "mimetype": "text/x-python",
   "name": "python",
   "nbconvert_exporter": "python",
   "pygments_lexer": "ipython3",
   "version": "3.8.3"
  }
 },
 "nbformat": 4,
 "nbformat_minor": 4
}
